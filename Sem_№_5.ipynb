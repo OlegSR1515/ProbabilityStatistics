{
 "cells": [
  {
   "cell_type": "markdown",
   "id": "a616c23b",
   "metadata": {},
   "source": [
    "<!--<div align=\"center\">Семинар № 5-->\n",
    "\n",
    "<div align=\"center\"><font color=#8A2BE2 size=5 face=«Черное тело»><em><strong>Семинар № 5</strong></em></font></div>"
   ]
  },
  {
   "cell_type": "markdown",
   "id": "8e116ad6",
   "metadata": {},
   "source": [
    "<code style=\"background:#F0F8FF; color:#9400D3; size:8\"><em><strong>ЗАДАЧА № 1.</strong> Когда используется критерий Стьюдента, а когда Z –критерий?</em></code>"
   ]
  }
 ],
 "metadata": {
  "kernelspec": {
   "display_name": "Python 3",
   "language": "python",
   "name": "python3"
  },
  "language_info": {
   "codemirror_mode": {
    "name": "ipython",
    "version": 3
   },
   "file_extension": ".py",
   "mimetype": "text/x-python",
   "name": "python",
   "nbconvert_exporter": "python",
   "pygments_lexer": "ipython3",
   "version": "3.8.8"
  }
 },
 "nbformat": 4,
 "nbformat_minor": 5
}
