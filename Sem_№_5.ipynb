{
 "cells": [
  {
   "cell_type": "markdown",
   "id": "a616c23b",
   "metadata": {},
   "source": [
    "<!--<div align=\"center\">Семинар № 5-->\n",
    "\n",
    "<div align=\"center\"><font color=#8A2BE2 size=5 face=«Черное тело»><em><strong>Семинар № 5</strong></em></font></div>"
   ]
  },
  {
   "cell_type": "markdown",
   "id": "09d33f21",
   "metadata": {},
   "source": [
    "<code style=\"background:#F0F8FF; color:#9400D3; size:8\"><em><strong><big>ЗАДАЧА № 1.</big></strong> Когда используется критерий Стьюдента, а когда Z –критерий?</em></code>"
   ]
  },
  {
   "cell_type": "code",
   "execution_count": null,
   "id": "bf16d55c",
   "metadata": {},
   "outputs": [],
   "source": []
  },
  {
   "cell_type": "code",
   "execution_count": null,
   "id": "e6c7f874",
   "metadata": {},
   "outputs": [],
   "source": []
  },
  {
   "cell_type": "code",
   "execution_count": null,
   "id": "8019f885",
   "metadata": {},
   "outputs": [],
   "source": []
  },
  {
   "cell_type": "markdown",
   "id": "884aa5ae",
   "metadata": {},
   "source": [
    "<code style=\"background:#F0F8FF; color:#9400D3; size:8\"><em><strong><big>ЗАДАЧА № 2.</big></strong> Проведите тест гипотезы.\n",
    "Утверждается, что шарики для подшипников, изготовленные автоматическим станком,\n",
    "имеют средний диаметр 17 мм. Используя односторонний критерий с α=0,05,\n",
    "проверить эту гипотезу, если в выборке из n=100 шариков средний диаметр оказался\n",
    "равным 17.5 мм, а дисперсия известна и равна 4 кв. мм.\n",
    "</em></code>"
   ]
  },
  {
   "cell_type": "code",
   "execution_count": null,
   "id": "e0694239",
   "metadata": {},
   "outputs": [],
   "source": []
  },
  {
   "cell_type": "code",
   "execution_count": null,
   "id": "da007e2f",
   "metadata": {},
   "outputs": [],
   "source": []
  },
  {
   "cell_type": "code",
   "execution_count": null,
   "id": "3101335e",
   "metadata": {},
   "outputs": [],
   "source": []
  },
  {
   "cell_type": "markdown",
   "id": "fbaf79a2",
   "metadata": {},
   "source": [
    "<code style=\"background:#F0F8FF; color:#9400D3; size:8\"><em><strong><big>ЗАДАЧА № 3.</big></strong> Проведите тест гипотезы.\n",
    "Продавец утверждает, что средний вес пачки печенья составляет 200 г.\n",
    "Из партии извлечена выборка из 10 пачек. Вес каждой пачки составляет:\n",
    "202, 203, 199, 197, 195, 201, 200, 204, 194, 190.\n",
    "Известно, что их веса распределены нормально.\n",
    "Верно ли утверждение продавца, если учитывать, что доверительная вероятность равна 99%?\n",
    "(Провести двусторонний тест.)\n",
    "</em></code>"
   ]
  },
  {
   "cell_type": "code",
   "execution_count": null,
   "id": "13d2eda3",
   "metadata": {},
   "outputs": [],
   "source": []
  },
  {
   "cell_type": "code",
   "execution_count": null,
   "id": "b8854fe8",
   "metadata": {},
   "outputs": [],
   "source": []
  },
  {
   "cell_type": "code",
   "execution_count": null,
   "id": "792e9e40",
   "metadata": {},
   "outputs": [],
   "source": []
  },
  {
   "cell_type": "markdown",
   "id": "c245a5cb",
   "metadata": {},
   "source": [
    "<code style=\"background:#F0F8FF; color:#9400D3; size:8\"><em><strong><big>ЗАДАЧА № 4.</big></strong> Есть ли статистически значимые различия в росте дочерей?\n",
    "Рост матерей 172, 177, 158, 170, 178,175, 164, 160, 169, 165\n",
    "Рост взрослых дочерей: 173, 175, 162, 174, 175, 168, 155, 170, 160\n",
    "\n",
    "</em></code>"
   ]
  },
  {
   "cell_type": "code",
   "execution_count": null,
   "id": "8a28fd5f",
   "metadata": {},
   "outputs": [],
   "source": []
  },
  {
   "cell_type": "code",
   "execution_count": null,
   "id": "3552c6eb",
   "metadata": {},
   "outputs": [],
   "source": []
  },
  {
   "cell_type": "code",
   "execution_count": null,
   "id": "171865eb",
   "metadata": {},
   "outputs": [],
   "source": []
  }
 ],
 "metadata": {
  "kernelspec": {
   "display_name": "Python 3",
   "language": "python",
   "name": "python3"
  },
  "language_info": {
   "codemirror_mode": {
    "name": "ipython",
    "version": 3
   },
   "file_extension": ".py",
   "mimetype": "text/x-python",
   "name": "python",
   "nbconvert_exporter": "python",
   "pygments_lexer": "ipython3",
   "version": "3.8.8"
  }
 },
 "nbformat": 4,
 "nbformat_minor": 5
}
