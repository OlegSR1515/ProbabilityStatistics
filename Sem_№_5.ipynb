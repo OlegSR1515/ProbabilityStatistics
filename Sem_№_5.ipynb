{
 "cells": [
  {
   "cell_type": "markdown",
   "id": "20d0c503",
   "metadata": {},
   "source": [
    "<!--<div align=\"center\">Семинар № 5-->\n",
    "\n",
    "<div align=\"center\"><font color=#4682B4 size=5 face=«Черное тело»><em><strong>Семинар № 5</strong></em></font></div>"
   ]
  },
  {
   "cell_type": "markdown",
   "id": "1329eabc",
   "metadata": {},
   "source": [
    "<code style=\"background:#F0F8FF; color:#9400D3; font-size:16px\"><em><strong><big>ЗАДАЧА № 1.</big></strong> Когда используется критерий Стьюдента, а когда Z –критерий?</em></code>"
   ]
  },
  {
   "cell_type": "code",
   "execution_count": 11,
   "id": "f525e7dc",
   "metadata": {},
   "outputs": [
    {
     "name": "stdout",
     "output_type": "stream",
     "text": [
      "5 + 3 = 8 !\n"
     ]
    },
    {
     "data": {
      "text/plain": [
       "8"
      ]
     },
     "execution_count": 11,
     "metadata": {},
     "output_type": "execute_result"
    }
   ],
   "source": [
    "n = 5 + 3 \n",
    "print(f'5 + 3 = {n} !')\n",
    "n"
   ]
  },
  {
   "cell_type": "code",
   "execution_count": null,
   "id": "2e9bc664",
   "metadata": {},
   "outputs": [],
   "source": []
  },
  {
   "cell_type": "code",
   "execution_count": null,
   "id": "0fb99b7b",
   "metadata": {},
   "outputs": [],
   "source": []
  },
  {
   "cell_type": "markdown",
   "id": "61ff4640",
   "metadata": {},
   "source": [
    "<code style=\"background:#F0F8FF; color:#9400D3; font-size:16px\"><em><strong><big>ЗАДАЧА № 2.</big></strong> Проведите тест гипотезы.\n",
    "Утверждается, что шарики для подшипников, изготовленные автоматическим станком,\n",
    "имеют средний диаметр 17 мм. Используя односторонний критерий с α=0,05,\n",
    "проверить эту гипотезу, если в выборке из n=100 шариков средний диаметр оказался\n",
    "равным 17.5 мм, а дисперсия известна и равна 4 кв. мм.</em></code>"
   ]
  },
  {
   "cell_type": "code",
   "execution_count": null,
   "id": "7e8bb8ec",
   "metadata": {},
   "outputs": [],
   "source": []
  },
  {
   "cell_type": "code",
   "execution_count": null,
   "id": "e47e4e64",
   "metadata": {},
   "outputs": [],
   "source": []
  },
  {
   "cell_type": "code",
   "execution_count": null,
   "id": "68a4f8dd",
   "metadata": {},
   "outputs": [],
   "source": []
  },
  {
   "cell_type": "markdown",
   "id": "fc2b5d33",
   "metadata": {},
   "source": [
    "<code style=\"background:#F0F8FF; color:#9400D3;font-size:16px\"><em><strong><big>ЗАДАЧА № 3.</big></strong> Проведите тест гипотезы.\n",
    "Продавец утверждает, что средний вес пачки печенья составляет 200 г.\n",
    "Из партии извлечена выборка из 10 пачек. Вес каждой пачки составляет:\n",
    "202, 203, 199, 197, 195, 201, 200, 204, 194, 190.\n",
    "Известно, что их веса распределены нормально.\n",
    "Верно ли утверждение продавца, если учитывать, что доверительная вероятность равна 99%?\n",
    "(Провести двусторонний тест.)</em></code>"
   ]
  },
  {
   "cell_type": "code",
   "execution_count": null,
   "id": "2cc8b817",
   "metadata": {},
   "outputs": [],
   "source": []
  },
  {
   "cell_type": "code",
   "execution_count": null,
   "id": "6f444af8",
   "metadata": {},
   "outputs": [],
   "source": []
  },
  {
   "cell_type": "code",
   "execution_count": null,
   "id": "2806cbbb",
   "metadata": {},
   "outputs": [],
   "source": []
  },
  {
   "cell_type": "markdown",
   "id": "22d706d1",
   "metadata": {},
   "source": [
    "<code style=\"background:#F0F8FF; color:#9400D3; font-size:16px\"><em><strong><big>ЗАДАЧА № 4.</big></strong> Есть ли статистически значимые различия в росте дочерей?\n",
    "Рост матерей 172, 177, 158, 170, 178,175, 164, 160, 169, 165\n",
    "Рост взрослых дочерей: 173, 175, 162, 174, 175, 168, 155, 170, 160</em></code>"
   ]
  },
  {
   "cell_type": "code",
   "execution_count": null,
   "id": "da1051e2",
   "metadata": {},
   "outputs": [],
   "source": []
  },
  {
   "cell_type": "code",
   "execution_count": null,
   "id": "bee2310f",
   "metadata": {},
   "outputs": [],
   "source": []
  },
  {
   "cell_type": "code",
   "execution_count": null,
   "id": "f98611a9",
   "metadata": {},
   "outputs": [],
   "source": []
  }
 ],
 "metadata": {
  "kernelspec": {
   "display_name": "Python 3",
   "language": "python",
   "name": "python3"
  },
  "language_info": {
   "codemirror_mode": {
    "name": "ipython",
    "version": 3
   },
   "file_extension": ".py",
   "mimetype": "text/x-python",
   "name": "python",
   "nbconvert_exporter": "python",
   "pygments_lexer": "ipython3",
   "version": "3.8.8"
  }
 },
 "nbformat": 4,
 "nbformat_minor": 5
}
