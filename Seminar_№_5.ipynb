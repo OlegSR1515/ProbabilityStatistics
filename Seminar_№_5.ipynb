{
 "cells": [
  {
   "cell_type": "markdown",
   "id": "4c67cd32",
   "metadata": {},
   "source": [
    "<!--<div align=\"center\">Семинар № 5-->\n",
    "\n",
    "<div align=\"center\"><font color=#4682B4 size=5 face=«Черное тело»><em><strong>Семинар № 5</strong></em></font></div>"
   ]
  },
  {
   "cell_type": "markdown",
   "id": "46ab75f4",
   "metadata": {},
   "source": [
    "<div class=\"alert alert-block alert-info\"><em>\n",
    "<b>ЗАДАЧА № 1.</b> Когда используется критерий Стьюдента, а когда Z –критерий?\n",
    "</em></div>"
   ]
  },
  {
   "cell_type": "markdown",
   "id": "1a3aa119",
   "metadata": {},
   "source": [
    "<div class=\"alert alert-block alert-success\"><em>\n",
    "<b>Ответ:</b></em></div>"
   ]
  },
  {
   "cell_type": "markdown",
   "id": "f92c3855",
   "metadata": {},
   "source": [
    "|<em>Z-критерий</em>|<em>критерий Стьюдента</em>|\n",
    "|:------:|:------:|\n",
    "|стандартное отклонение известно|стандартное отклонение неизвестно|\n",
    "|размер выборки достаточно велик|размер выборки невелик|\n",
    "|Нормальное распределение|Студент-т распределение|\n",
    "|<font size=\"4px\"> $Z_н=\\frac{\\bar X - \\mu}{\\sigma\\ /\\ \\sqrt{n}}$|<font size=\"4px\"> $t_н=\\frac{\\bar X - \\mu}{\\sigma_н\\ /\\ \\sqrt{n}}$|\n"
   ]
  },
  {
   "cell_type": "markdown",
   "id": "ba3f2c44",
   "metadata": {},
   "source": [
    "<div class=\"alert alert-block alert-info\"><em>\n",
    "<b> ЗАДАЧА № 2. </b><br> Проведите тест гипотезы.<br>\n",
    "Утверждается, что шарики для подшипников, изготовленные автоматическим станком,\n",
    "имеют средний диаметр 17 мм. Используя односторонний критерий с α=0,05,\n",
    "проверить эту гипотезу, если в выборке из n=100 шариков средний диаметр оказался\n",
    "равным 17.5 мм, а дисперсия известна и равна 4 кв. мм.</em></code>\n",
    "</em></div>"
   ]
  },
  {
   "cell_type": "markdown",
   "id": "332a2cf7",
   "metadata": {},
   "source": [
    "<font size=\"2px\">Сформулируем нулевую гипотезу $H_0$:<br>\n",
    "<font size=\"3px\">$\\mu=\\mu_0=17$<font size=\"2px\">, где<br> \n",
    "$\\mu$ - средняя генеральной совокупности;<br>\n",
    "$\\mu_0$ - средняя выборки.<br>\n",
    "Тогда альтернативная гипотеза, $H_1$:<br>\n",
    "<font size=\"3px\">$\\mu>\\mu_0$<font size=\"2px\">.<br> \n",
    "Поскольку нам известны и среднее и дисперсия генеральной совокупности,<br>\n",
    "то для проверки гипотезы будем использовать $z$-критерий.<br>\n",
    "<font size=\"4px\"> $Z_н=\\frac{\\bar X - \\mu_0}{\\sigma\\ /\\ \\sqrt{n}}$<font size=\"2px\">, где<br>\n",
    "$\\bar X = \\mu = 17,5$ - среднее по выборке;<br>\n",
    "$\\sigma = \\sqrt{4} = 2$ - среднеквадратичное отклонение генеральной совокупности;<br>\n",
    "$n = 100$ - размер выборки."
   ]
  },
  {
   "cell_type": "code",
   "execution_count": null,
   "id": "6617e5dc",
   "metadata": {},
   "outputs": [],
   "source": [
    "import numpy as np\n",
    "import scipy.stats as st"
   ]
  },
  {
   "cell_type": "code",
   "execution_count": 13,
   "id": "2102f0bf",
   "metadata": {},
   "outputs": [
    {
     "name": "stdout",
     "output_type": "stream",
     "text": [
      "Наблюдаемое значение z-критерия:  2.500\n"
     ]
    }
   ],
   "source": [
    "z_nab = (17.5 - 17) / (np.sqrt(4) / np.sqrt(100))\n",
    "print(f'Наблюдаемое значение z-критерия: {z_nab: .3f}')"
   ]
  },
  {
   "cell_type": "markdown",
   "id": "a66c60fd",
   "metadata": {},
   "source": [
    "<font size=\"2px\">Найдем табличное значение $z$ -критерия, для $\\alpha = 0.05$:"
   ]
  },
  {
   "cell_type": "code",
   "execution_count": 20,
   "id": "dc5da97a",
   "metadata": {},
   "outputs": [
    {
     "name": "stdout",
     "output_type": "stream",
     "text": [
      "Табличное значение z-критерия:  1.6449\n"
     ]
    }
   ],
   "source": [
    "z_test=st.norm.ppf(0.95)\n",
    "print(f'Табличное значение z-критерия: {z_test: .4f}')"
   ]
  },
  {
   "cell_type": "markdown",
   "id": "651f2335",
   "metadata": {},
   "source": [
    "<font size=\"2px\">Сравниваем полученные значения:"
   ]
  },
  {
   "cell_type": "code",
   "execution_count": 21,
   "id": "aa3cfcaa",
   "metadata": {},
   "outputs": [
    {
     "name": "stdout",
     "output_type": "stream",
     "text": [
      "Принимаем альтернативную гипотезу H1.\n"
     ]
    }
   ],
   "source": [
    "if z_n > z_test:\n",
    "    print(f'Принимаем альтернативную гипотезу H1.')\n",
    "else:\n",
    "    print(f'Принимаем нулевую гипотезу.')    "
   ]
  },
  {
   "cell_type": "markdown",
   "id": "1df882b2",
   "metadata": {},
   "source": [
    "<div class=\"alert alert-block alert-success\"><em>\n",
    "<b>Ответ:</b><br>\n",
    "<b>Отвергаем</b> нулевую гипотезу $H_0:\\mu_0 = 17,0$ на уровне значимости\n",
    "$\\alpha = 0,05$.</em>\n",
    "</div>"
   ]
  },
  {
   "cell_type": "markdown",
   "id": "0b406cc4",
   "metadata": {},
   "source": [
    "<div class=\"alert alert-block alert-info\"><em>\n",
    "<b> ЗАДАЧА № 3. </b><br> Проведите тест гипотезы.<br>\n",
    "Продавец утверждает, что средний вес пачки печенья составляет 200 г.\n",
    "Из партии извлечена выборка из 10 пачек. Вес каждой пачки составляет:\n",
    "202, 203, 199, 197, 195, 201, 200, 204, 194, 190.\n",
    "Известно, что их веса распределены нормально.\n",
    "Верно ли утверждение продавца, если учитывать, что доверительная вероятность равна 99%?<br>\n",
    "(Провести двусторонний тест.)</em></code>"
   ]
  },
  {
   "cell_type": "code",
   "execution_count": null,
   "id": "9cb5260a",
   "metadata": {},
   "outputs": [],
   "source": []
  },
  {
   "cell_type": "code",
   "execution_count": null,
   "id": "dd695819",
   "metadata": {},
   "outputs": [],
   "source": []
  },
  {
   "cell_type": "markdown",
   "id": "c27216f5",
   "metadata": {},
   "source": [
    "<div class=\"alert alert-block alert-success\"><em>\n",
    "<b>Ответ:</b><br> Это ответ !\n",
    "</em></div>"
   ]
  },
  {
   "cell_type": "markdown",
   "id": "9985bdb1",
   "metadata": {},
   "source": [
    "<div class=\"alert alert-block alert-info\"><em>\n",
    "<b> ЗАДАЧА № 4. </b><br> Есть ли статистически значимые различия в росте дочерей?<br>\n",
    "Рост матерей 172, 177, 158, 170, 178,175, 164, 160, 169, 165<br>\n",
    "Рост взрослых дочерей: 173, 175, 162, 174, 175, 168, 155, 170, 160</em></code>"
   ]
  },
  {
   "cell_type": "code",
   "execution_count": null,
   "id": "d0e324cd",
   "metadata": {},
   "outputs": [],
   "source": []
  },
  {
   "cell_type": "code",
   "execution_count": null,
   "id": "ce44169a",
   "metadata": {},
   "outputs": [],
   "source": []
  },
  {
   "cell_type": "markdown",
   "id": "edabf8f5",
   "metadata": {},
   "source": [
    "<div class=\"alert alert-block alert-success\"><em>\n",
    "<b>Ответ:</b><br> Это ответ !\n",
    "</em></div>"
   ]
  },
  {
   "cell_type": "code",
   "execution_count": null,
   "id": "b38329df",
   "metadata": {},
   "outputs": [],
   "source": []
  },
  {
   "cell_type": "code",
   "execution_count": null,
   "id": "c47b83f7",
   "metadata": {},
   "outputs": [],
   "source": [
    "<div class=\"alert alert-block alert-success\"><em>\n",
    "<b>Ответ:</b><br> Это ответ !\n",
    "</em></div>"
   ]
  },
  {
   "cell_type": "code",
   "execution_count": null,
   "id": "8ba237be",
   "metadata": {},
   "outputs": [],
   "source": [
    "n = 5 + 3 \n",
    "print(f'5 + 3 = {n} !')\n",
    "n"
   ]
  },
  {
   "cell_type": "code",
   "execution_count": null,
   "id": "9765102a",
   "metadata": {},
   "outputs": [],
   "source": [
    "<div class=\"alert alert-block alert-success\"><em>\n",
    "|<em>Z-критерий</em>|<em>критерий Стьюдента</em>|\n",
    "|:------:|:------:|\n",
    "|стандартное отклонение известно|стандартное отклонение неизвестно|\n",
    "|размер выборки достаточно велик|размер выборки невелик|\n",
    "|Нормальное распределение|Студент-т распределение|\n",
    "|<font size=\"4px\"> $Z_н=\\frac{\\bar X - \\mu}{\\sigma\\ /\\ \\sqrt{n}}$|<font size=\"4px\"> $t_н=\\frac{\\bar X - \\mu}{\\sigma_н\\ /\\ \\sqrt{n}}$|\n",
    "</em></div>"
   ]
  }
 ],
 "metadata": {
  "kernelspec": {
   "display_name": "Python 3",
   "language": "python",
   "name": "python3"
  },
  "language_info": {
   "codemirror_mode": {
    "name": "ipython",
    "version": 3
   },
   "file_extension": ".py",
   "mimetype": "text/x-python",
   "name": "python",
   "nbconvert_exporter": "python",
   "pygments_lexer": "ipython3",
   "version": "3.8.8"
  }
 },
 "nbformat": 4,
 "nbformat_minor": 5
}
