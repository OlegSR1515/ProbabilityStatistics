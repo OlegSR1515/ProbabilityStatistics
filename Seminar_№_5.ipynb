{
 "cells": [
  {
   "cell_type": "markdown",
   "id": "4c67cd32",
   "metadata": {},
   "source": [
    "<!--<div align=\"center\">Семинар № 5-->\n",
    "\n",
    "<div align=\"center\"><font color=#4682B4 size=5 face=«Черное тело»><em><strong>Семинар № 5</strong></em></font></div>"
   ]
  },
  {
   "cell_type": "markdown",
   "id": "46ab75f4",
   "metadata": {},
   "source": [
    "<div class=\"alert alert-block alert-info\"><em>\n",
    "<b>ЗАДАЧА № 1.</b> Когда используется критерий Стьюдента, а когда Z –критерий?\n",
    "</em></div>"
   ]
  },
  {
   "cell_type": "markdown",
   "id": "1a3aa119",
   "metadata": {},
   "source": [
    "<div class=\"alert alert-block alert-success\"><em>\n",
    "<b>Ответ:</b></em></div>"
   ]
  },
  {
   "cell_type": "markdown",
   "id": "2c3023ff",
   "metadata": {},
   "source": [
    "|<em>Z-критерий</em>|<em>критерий Стьюдента</em>|\n",
    "|:------:|:------:|\n",
    "|стандартное отклонение известно|стандартное отклонение неизвестно|\n",
    "|размер выборки достаточно велик|размер выборки невелик|\n",
    "|Нормальное распределение|Студент-т распределение|\n",
    "|<font size=\"4px\"> $Z_н=\\frac{\\bar X - \\mu}{\\sigma\\ /\\ \\sqrt{n}}$|<font size=\"4px\"> $t_н=\\frac{\\bar X - m}{\\sigma_{несм}\\ /\\ \\sqrt{n}}$|\n"
   ]
  },
  {
   "cell_type": "markdown",
   "id": "72f2fa7d",
   "metadata": {},
   "source": [
    "<div class=\"alert alert-block alert-info\"><em>\n",
    "<b> ЗАДАЧА № 2. </b>Решать вручную.<br> Проведите тест гипотезы.<br>\n",
    "Утверждается, что шарики для подшипников, изготовленные автоматическим станком,\n",
    "имеют средний диаметр 17 мм. Используя односторонний критерий с α=0,05,\n",
    "проверить эту гипотезу, если в выборке из n=100 шариков средний диаметр оказался\n",
    "равным 17.5 мм, а дисперсия известна и равна 4 кв. мм.</em></code>\n",
    "</em></div>"
   ]
  },
  {
   "cell_type": "markdown",
   "id": "13c18b41",
   "metadata": {},
   "source": [
    "<font size=\"2px\">Сформулируем нулевую гипотезу $H_0:$<br>\n",
    "<font size=\"3px\">$\\mu=\\mu_0=17\\ мм,$ <font size=\"2px\">где<br> \n",
    "$\\mu$ - средняя генеральной совокупности ;<br>\n",
    "$\\mu_0$ - средняя выборки .<br>\n",
    "Тогда для правостороннего теста альтернативная гипотеза, $H_1:$<br>\n",
    "<font size=\"3px\">$\\mu>\\mu_0.$<br> \n",
    "<font size=\"2px\">Поскольку нам известны и среднее и дисперсия генеральной совокупности,<br>\n",
    "то для проверки гипотезы будем использовать $z$-критерий.<br>\n",
    "<font size=\"4px\"> $Z_н=\\frac{\\bar X - \\mu_0}{\\sigma\\ /\\ \\sqrt{n}}$<font size=\"2px\">, где<br>\n",
    "$\\bar X = \\mu = 17,5\\ мм$ - среднее по выборке;<br>\n",
    "$\\sigma = \\sqrt{4} = 2\\ мм$ - среднеквадратичное отклонение генеральной совокупности;<br>\n",
    "$n = 100\\ шт.$ - размер выборки.\n",
    "<br><br>  \n",
    "Для решения этой и следующих задач импортируем необходимые Python-библиотеки:"
   ]
  },
  {
   "cell_type": "code",
   "execution_count": 5,
   "id": "420e9dcb",
   "metadata": {},
   "outputs": [],
   "source": [
    "import numpy as np\n",
    "import scipy.stats as st"
   ]
  },
  {
   "cell_type": "code",
   "execution_count": 6,
   "id": "2102f0bf",
   "metadata": {},
   "outputs": [
    {
     "name": "stdout",
     "output_type": "stream",
     "text": [
      "Наблюдаемое значение z-критерия:  2.500\n"
     ]
    }
   ],
   "source": [
    "z_nab = (17.5 - 17) / (np.sqrt(4) / np.sqrt(100))\n",
    "print(f'Наблюдаемое значение z-критерия: {z_nab: .3f}')"
   ]
  },
  {
   "cell_type": "markdown",
   "id": "b3fcea7e",
   "metadata": {},
   "source": [
    "<font size=\"2px\">Найдем табличное значение $z$ -критерия, для $\\alpha = 0.05$:"
   ]
  },
  {
   "cell_type": "code",
   "execution_count": 7,
   "id": "dc5da97a",
   "metadata": {},
   "outputs": [
    {
     "name": "stdout",
     "output_type": "stream",
     "text": [
      "Табличное значение z-критерия:  1.6449\n"
     ]
    }
   ],
   "source": [
    "z_tab=st.norm.ppf(1-0.05)\n",
    "print(f'Табличное значение z-критерия: {z_tab: .4f}')"
   ]
  },
  {
   "cell_type": "markdown",
   "id": "a41fa2b0",
   "metadata": {},
   "source": [
    "<font size=\"2px\">Примем нулевую гипотезу, если <font size=\"3px\">$Z_{наб}$ \n",
    "<font size=\"2px\">принадлежит промежутку <font size=\"3px\">$(-\\infty\\ ;\\ 1,645)$"
   ]
  },
  {
   "cell_type": "code",
   "execution_count": 8,
   "id": "aa3cfcaa",
   "metadata": {},
   "outputs": [
    {
     "name": "stdout",
     "output_type": "stream",
     "text": [
      "Принимаем альтернативную гипотезу H1.\n"
     ]
    }
   ],
   "source": [
    "if z_nab > z_tab:\n",
    "    print(f'Принимаем альтернативную гипотезу H1.')\n",
    "else:\n",
    "    print(f'Принимаем нулевую гипотезу.')    "
   ]
  },
  {
   "cell_type": "markdown",
   "id": "ecb2ea95",
   "metadata": {},
   "source": [
    "<div class=\"alert alert-block alert-success\"><em>\n",
    "<b>Ответ:</b><br>\n",
    "<b>Отвергаем</b> нулевую гипотезу $H_0:\\  \\mu_0 = 17,0\\ мм$ на уровне значимости\n",
    "$\\alpha = 0,05$.</em>\n",
    "</div>"
   ]
  },
  {
   "cell_type": "markdown",
   "id": "db900cfb",
   "metadata": {},
   "source": [
    "<div class=\"alert alert-block alert-info\"><em>\n",
    "<b> ЗАДАЧА № 3. </b>Решать вручную.<br> Проведите тест гипотезы.<br>\n",
    "Продавец утверждает, что средний вес пачки печенья составляет 200 г.\n",
    "Из партии извлечена выборка из 10 пачек. Вес каждой пачки составляет:\n",
    "202, 203, 199, 197, 195, 201, 200, 204, 194, 190.\n",
    "Известно, что их веса распределены нормально.\n",
    "Верно ли утверждение продавца, если учитывать, что доверительная вероятность равна 99%?<br>\n",
    "(Провести двусторонний тест.)</em></code>"
   ]
  },
  {
   "cell_type": "code",
   "execution_count": null,
   "id": "e5aadaf2",
   "metadata": {},
   "outputs": [],
   "source": [
    "<font size=\"2px\">Сформулируем нулевую гипотезу $H_0:$<br>\n",
    "<font size=\"3px\">$\\mu=200\\ г,$ <font size=\"2px\">где<br> \n",
    "$\\mu$ - средняя генеральной совокупности ;<br>\n",
    "Тогда для двустороннего теста $\\alpha = (1-99\\%)\\ /\\ 2=0,005$ и альтернативная гипотеза, $H_1:$<br>\n",
    "<font size=\"3px\">$\\mu\\not=200\\ г.$<br> \n",
    "<font size=\"2px\">Поскольку нам неизвестна дисперсия генеральной совокупности,<br>\n",
    "то для проверки гипотезы будем использовать $t$-критерий Стьюдента.<br>\n",
    "<font size=\"4px\"> $t_н=\\frac{\\bar X - m}{\\sigma_{несм}\\ /\\ \\sqrt{n}}$<font size=\"2px\">, где<br>\n",
    "$\\bar X$ - среднее по выборке;<br>\n",
    "$\\sigma_{несм}$ - несмещённая оценка дисперсии;<br>\n",
    "$n = 10$ - размер выборки.\n",
    "<br>\n",
    "<br>"
   ]
  },
  {
   "cell_type": "code",
   "execution_count": 14,
   "id": "99207db5",
   "metadata": {},
   "outputs": [
    {
     "name": "stdout",
     "output_type": "stream",
     "text": [
      "Наблюдаемое значение t-критерия: -1.065\n"
     ]
    }
   ],
   "source": [
    "a = np.array([202, 203, 199, 197, 195, 201, 200, 204, 194, 190])\n",
    "t_nab = (a.mean()-200)/(a.std(ddof=1)/np.sqrt(len(a)))\n",
    "print(f'Наблюдаемое значение t-критерия: {t_nab: .3f}')"
   ]
  },
  {
   "cell_type": "code",
   "execution_count": 16,
   "id": "cb4123c3",
   "metadata": {},
   "outputs": [
    {
     "name": "stdout",
     "output_type": "stream",
     "text": [
      "Табличные значения t-критерия: -3.2498;  3.2498\n"
     ]
    }
   ],
   "source": [
    "t_tab1=st.t.ppf(1-0.01/2,len(a)-1)\n",
    "t_tab2=st.t.ppf(0.01/2,len(a)-1)\n",
    "print(f'Табличные значения t-критерия: {t_tab2: .4f}; {t_tab1: .4f}')"
   ]
  },
  {
   "cell_type": "code",
   "execution_count": null,
   "id": "51492a69",
   "metadata": {},
   "outputs": [],
   "source": [
    "<font size=\"2px\">Примем нулевую гипотезу, если <font size=\"3px\">$t_{наб}$ \n",
    "<font size=\"2px\">принадлежит промежутку <font size=\"3px\">$(-3.2498\\ ;\\ 3.2498)$"
   ]
  },
  {
   "cell_type": "code",
   "execution_count": 17,
   "id": "5300b84e",
   "metadata": {},
   "outputs": [
    {
     "name": "stdout",
     "output_type": "stream",
     "text": [
      "Принимаем нулевую гипотезу H0.\n"
     ]
    }
   ],
   "source": [
    "if t_nab > t_tab1 or t_nab < t_tab2:\n",
    "    print(f'Отвергаем нулевую гипотезу H0.')\n",
    "else:\n",
    "    print(f'Принимаем нулевую гипотезу H0.')   "
   ]
  },
  {
   "cell_type": "markdown",
   "id": "35db02bb",
   "metadata": {},
   "source": [
    "<div class=\"alert alert-block alert-success\"><em>\n",
    "<b>Ответ:<br> Принимаем</b> нулевую гипотезу $H_0:$ средний вес пачки печенья составляет 200 г на уровне значимости\n",
    "$\\alpha = 0,01$.\n",
    "</em></div>"
   ]
  },
  {
   "cell_type": "markdown",
   "id": "4207f057",
   "metadata": {},
   "source": [
    "<div class=\"alert alert-block alert-info\"><em>\n",
    "<b> ЗАДАЧА № 4. </b>Решать с помощью функции.<br> Есть ли статистически значимые различия в росте дочерей?<br>\n",
    "Рост матерей 172, 177, 158, 170, 178,175, 164, 160, 169, 165<br>\n",
    "Рост взрослых дочерей: 173, 175, 162, 174, 175, 168, 155, 170, 160</em></code>"
   ]
  },
  {
   "cell_type": "markdown",
   "id": "355b6aea",
   "metadata": {},
   "source": [
    "<font size=\"2px\">По идее, рост дочерей зависит от роста матерей, \n",
    "поэтому примем, что выборки зависимы.<br>\n",
    "И решать будем с помощью функции <b>ttest_rel()</b> из Python-библиотеки.<br>\n",
    "Приведём выборки к одной размерности, отбросив последнее наблюдение в выборке роста матерей."
   ]
  },
  {
   "cell_type": "code",
   "execution_count": 24,
   "id": "31da1b4a",
   "metadata": {},
   "outputs": [],
   "source": [
    "b = np.array([172, 177, 158, 170, 178, 175, 164, 160, 169])\n",
    "c = np.array([173, 175, 162, 174, 175, 168, 155, 170, 160])"
   ]
  },
  {
   "cell_type": "markdown",
   "id": "5c8f3f47",
   "metadata": {},
   "source": [
    "<font size=\"2px\">Сформулируем нулевую гипотезу $H_0:$<br>\n",
    "На уровне значимости <b>$\\alpha = 0,05$</b> статистически значимых различий в росте дочерей <b>НЕТ.</b>"
   ]
  },
  {
   "cell_type": "code",
   "execution_count": 21,
   "id": "ce44169a",
   "metadata": {},
   "outputs": [
    {
     "data": {
      "text/plain": [
       "Ttest_relResult(statistic=0.559522990335608, pvalue=0.5911212354055175)"
      ]
     },
     "execution_count": 21,
     "metadata": {},
     "output_type": "execute_result"
    }
   ],
   "source": [
    "st.ttest_rel(b, c)"
   ]
  },
  {
   "cell_type": "markdown",
   "id": "7c497568",
   "metadata": {},
   "source": [
    "<div class=\"alert alert-block alert-success\"><em>\n",
    "<b>Ответ:</b><br> Так как, $p-value=0.5911>\\alpha=0.05$, нулевая гипотеза <b>принимается.</b><br>\n",
    "Cтатистически значимых различий в росте дочерей НЕТ на уровне значимости 0,05.\n",
    "</em></div>"
   ]
  }
 ],
 "metadata": {
  "kernelspec": {
   "display_name": "Python 3",
   "language": "python",
   "name": "python3"
  },
  "language_info": {
   "codemirror_mode": {
    "name": "ipython",
    "version": 3
   },
   "file_extension": ".py",
   "mimetype": "text/x-python",
   "name": "python",
   "nbconvert_exporter": "python",
   "pygments_lexer": "ipython3",
   "version": "3.8.8"
  }
 },
 "nbformat": 4,
 "nbformat_minor": 5
}
