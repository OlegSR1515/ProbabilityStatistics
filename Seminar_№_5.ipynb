{
 "cells": [
  {
   "cell_type": "markdown",
   "id": "4c67cd32",
   "metadata": {},
   "source": [
    "<!--<div align=\"center\">Семинар № 5-->\n",
    "\n",
    "<div align=\"center\"><font color=#4682B4 size=5 face=«Черное тело»><em><strong>Семинар № 5</strong></em></font></div>"
   ]
  },
  {
   "cell_type": "markdown",
   "id": "46ab75f4",
   "metadata": {},
   "source": [
    "<div class=\"alert alert-block alert-info\"><em>\n",
    "<b>ЗАДАЧА № 1.</b> Когда используется критерий Стьюдента, а когда Z –критерий?\n",
    "</em></div>"
   ]
  },
  {
   "cell_type": "code",
   "execution_count": null,
   "id": "8ba237be",
   "metadata": {},
   "outputs": [],
   "source": [
    "n = 5 + 3 \n",
    "print(f'5 + 3 = {n} !')\n",
    "n"
   ]
  },
  {
   "cell_type": "code",
   "execution_count": null,
   "id": "52c43b65",
   "metadata": {},
   "outputs": [],
   "source": []
  },
  {
   "cell_type": "markdown",
   "id": "9ca683ec",
   "metadata": {},
   "source": [
    "<div class=\"alert alert-block alert-info\"><em>\n",
    "<b> ЗАДАЧА № 2. </b><br> Проведите тест гипотезы.<br>\n",
    "Утверждается, что шарики для подшипников, изготовленные автоматическим станком,\n",
    "имеют средний диаметр 17 мм. Используя односторонний критерий с α=0,05,\n",
    "проверить эту гипотезу, если в выборке из n=100 шариков средний диаметр оказался\n",
    "равным 17.5 мм, а дисперсия известна и равна 4 кв. мм.</em></code>\n",
    "</em></div>"
   ]
  },
  {
   "cell_type": "code",
   "execution_count": null,
   "id": "639e6bc8",
   "metadata": {},
   "outputs": [],
   "source": []
  },
  {
   "cell_type": "code",
   "execution_count": null,
   "id": "2102f0bf",
   "metadata": {},
   "outputs": [],
   "source": []
  },
  {
   "cell_type": "markdown",
   "id": "1370b683",
   "metadata": {},
   "source": [
    "<div class=\"alert alert-block alert-info\"><em>\n",
    "<b> ЗАДАЧА № 3. </b><br> Проведите тест гипотезы.<br>\n",
    "Продавец утверждает, что средний вес пачки печенья составляет 200 г.\n",
    "Из партии извлечена выборка из 10 пачек. Вес каждой пачки составляет:\n",
    "202, 203, 199, 197, 195, 201, 200, 204, 194, 190.\n",
    "Известно, что их веса распределены нормально.\n",
    "Верно ли утверждение продавца, если учитывать, что доверительная вероятность равна 99%?<br>\n",
    "(Провести двусторонний тест.)</em></code>"
   ]
  },
  {
   "cell_type": "code",
   "execution_count": null,
   "id": "9cb5260a",
   "metadata": {},
   "outputs": [],
   "source": []
  },
  {
   "cell_type": "code",
   "execution_count": null,
   "id": "479280f7",
   "metadata": {},
   "outputs": [],
   "source": []
  },
  {
   "cell_type": "markdown",
   "id": "30575678",
   "metadata": {},
   "source": [
    "<div class=\"alert alert-block alert-info\"><em>\n",
    "<b> ЗАДАЧА № 3. </b><br> Есть ли статистически значимые различия в росте дочерей?<br>\n",
    "Рост матерей 172, 177, 158, 170, 178,175, 164, 160, 169, 165<br>\n",
    "Рост взрослых дочерей: 173, 175, 162, 174, 175, 168, 155, 170, 160</em></code>"
   ]
  },
  {
   "cell_type": "code",
   "execution_count": null,
   "id": "d0e324cd",
   "metadata": {},
   "outputs": [],
   "source": []
  },
  {
   "cell_type": "code",
   "execution_count": null,
   "id": "f1e883b2",
   "metadata": {},
   "outputs": [],
   "source": []
  }
 ],
 "metadata": {
  "kernelspec": {
   "display_name": "Python 3",
   "language": "python",
   "name": "python3"
  },
  "language_info": {
   "codemirror_mode": {
    "name": "ipython",
    "version": 3
   },
   "file_extension": ".py",
   "mimetype": "text/x-python",
   "name": "python",
   "nbconvert_exporter": "python",
   "pygments_lexer": "ipython3",
   "version": "3.8.8"
  }
 },
 "nbformat": 4,
 "nbformat_minor": 5
}
