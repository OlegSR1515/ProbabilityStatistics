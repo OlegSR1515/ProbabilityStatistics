{
 "cells": [
  {
   "cell_type": "markdown",
   "id": "20f8cb81",
   "metadata": {},
   "source": [
    "Импортируем библиотеку статистического анализа в Python"
   ]
  },
  {
   "cell_type": "code",
   "execution_count": 1,
   "id": "19c2bdad",
   "metadata": {},
   "outputs": [],
   "source": [
    "import scipy.stats as st"
   ]
  },
  {
   "cell_type": "markdown",
   "id": "d530da98",
   "metadata": {},
   "source": [
    "Введём наши данные результатов тестирования по трём видам бросков сначала до проведения методики, а затем после для **8 \"A\"** класса:"
   ]
  },
  {
   "cell_type": "code",
   "execution_count": 2,
   "id": "76290dd5",
   "metadata": {},
   "outputs": [],
   "source": [
    "_8a_niz_do = [4, 5, 2, 3, 4, 6, 4, 3, 5, 7, 5, 4, 5, 2, 0, 4, 5, 6, 4, 7, 3, 4, 2, 5, 1, 4]\n",
    "_8a_1ha_do = [5, 3, 4, 5, 5, 3, 3, 2, 5, 8, 4, 3, 6, 3, 2, 3, 4, 5, 6, 5, 5, 4, 3, 4, 3, 2]\n",
    "_8a_gru_do = [4, 4, 5, 4, 4, 5, 5, 4, 3, 5, 6, 5, 5, 3, 2, 3, 4, 4, 4, 5, 5, 3, 3, 4, 4, 2]\n",
    "\n",
    "_8a_niz_ps = [5, 5, 3, 4, 5, 6, 5, 4, 5, 7, 6, 4, 5, 4, 2, 4, 5, 6, 4, 7, 4, 4, 2, 5, 2, 4]\n",
    "_8a_1ha_ps = [5, 5, 6, 5, 6, 5, 4, 5, 5, 8, 4, 5, 6, 5, 2, 3, 5, 6, 6, 5, 6, 5, 4, 5, 3, 4]\n",
    "_8a_gru_ps = [4, 5, 5, 6, 5, 5, 5, 4, 4, 6, 6, 5, 6, 5, 4, 3, 5, 6, 4, 5, 6, 4, 4, 5, 4, 5]"
   ]
  },
  {
   "cell_type": "markdown",
   "id": "72c85346",
   "metadata": {},
   "source": [
    "Введём такие же данные теперь для **8 \"Б\"**:"
   ]
  },
  {
   "cell_type": "code",
   "execution_count": 3,
   "id": "705bfa0e",
   "metadata": {},
   "outputs": [],
   "source": [
    "_8b_niz_do = [3, 4, 3, 4, 4, 5, 5, 3, 2, 3, 4, 4, 3, 5, 3, 0, 4, 3, 2, 6, 4, 3, 5, 6]\n",
    "_8b_1ha_do = [3, 4, 4, 5, 5, 4, 4, 5, 4, 5, 4, 4, 5, 4, 3, 2, 3, 4, 3, 4, 4, 4, 5, 6]\n",
    "_8b_gru_do = [4, 5, 4, 4, 5, 3, 5, 5, 4, 5, 4, 3, 4, 5, 4, 3, 5, 5, 4, 4, 5, 4, 3, 5]\n",
    "\n",
    "_8b_niz_ps = [3, 4, 4, 4, 4, 4, 6, 4, 2, 3, 5, 4, 4, 5, 5, 1, 3, 4, 2, 5, 4, 5, 5, 5]\n",
    "_8b_1ha_ps = [2, 4, 4, 5, 5, 5, 4, 5, 5, 5, 4, 5, 6, 5, 3, 2, 3, 2, 3, 5, 3, 5, 5, 5]\n",
    "_8b_gru_ps = [3, 4, 4, 4, 5, 4, 5, 4, 4, 5, 4, 4, 5, 5, 4, 3, 5, 5, 4, 4, 4, 4, 3, 5]"
   ]
  },
  {
   "cell_type": "markdown",
   "id": "aa0a4697",
   "metadata": {},
   "source": [
    "С помощью критерия **Манна-Уитни** найдём есть ли статистически значимая разница при бросках снизу между учениками из 8 \"A\" и 8 \"Б\" классов до проведения методики: "
   ]
  },
  {
   "cell_type": "code",
   "execution_count": 13,
   "id": "96a2cf5a",
   "metadata": {},
   "outputs": [
    {
     "data": {
      "text/plain": [
       "MannwhitneyuResult(statistic=265.5, pvalue=0.1801046041972389)"
      ]
     },
     "execution_count": 13,
     "metadata": {},
     "output_type": "execute_result"
    }
   ],
   "source": [
    "st.mannwhitneyu(_8a_niz_do, _8b_niz_do)"
   ]
  },
  {
   "cell_type": "markdown",
   "id": "49bbb66a",
   "metadata": {},
   "source": [
    "Значение **pvalue = 0.1801.. больше уровня статистической значимости β = 0.05**.<br>\n",
    "Делаем вывод, что статистически значимых различий при бросках снизу между учениками 8 \"A\" и 8 \"Б\" до проведения методики не обнаружено.\n"
   ]
  },
  {
   "cell_type": "code",
   "execution_count": 5,
   "id": "17aca53e",
   "metadata": {},
   "outputs": [
    {
     "data": {
      "text/plain": [
       "MannwhitneyuResult(statistic=291.5, pvalue=0.34349243083925296)"
      ]
     },
     "execution_count": 5,
     "metadata": {},
     "output_type": "execute_result"
    }
   ],
   "source": [
    "st.mannwhitneyu(_8a_1ha_do, _8b_1ha_do)"
   ]
  },
  {
   "cell_type": "code",
   "execution_count": 6,
   "id": "ee7983ed",
   "metadata": {},
   "outputs": [
    {
     "data": {
      "text/plain": [
       "MannwhitneyuResult(statistic=276.0, pvalue=0.23169571569915576)"
      ]
     },
     "execution_count": 6,
     "metadata": {},
     "output_type": "execute_result"
    }
   ],
   "source": [
    "st.mannwhitneyu(_8a_gru_do, _8b_gru_do)"
   ]
  },
  {
   "cell_type": "markdown",
   "id": "65a58f03",
   "metadata": {},
   "source": [
    "Такие же результаты получили и для двух остальных видов бросков.<br>\n",
    "Можно сделать вывод, что **подготовка учеников до проведения методики в двух классах примерно одинакова**.\n",
    "<br><br>\n",
    "Выясним, как повлияло обучение по методике на результат. Для этого вычтем из результатов **после** результаты **до** проведения методики в обоих классах и сравним их:  "
   ]
  },
  {
   "cell_type": "code",
   "execution_count": 14,
   "id": "128405b4",
   "metadata": {},
   "outputs": [],
   "source": [
    "_8a_niz_raz =[_8a_niz_ps[_] - _8a_niz_do[_] for _ in range(len(_8a_niz_ps))]\n",
    "_8b_niz_raz =[_8b_niz_ps[_] - _8b_niz_do[_] for _ in range(len(_8b_niz_ps))]"
   ]
  },
  {
   "cell_type": "code",
   "execution_count": 15,
   "id": "1a7e1452",
   "metadata": {},
   "outputs": [
    {
     "data": {
      "text/plain": [
       "MannwhitneyuResult(statistic=269.0, pvalue=0.1819144758639507)"
      ]
     },
     "execution_count": 15,
     "metadata": {},
     "output_type": "execute_result"
    }
   ],
   "source": [
    "st.mannwhitneyu(_8a_niz_raz, _8b_niz_raz)"
   ]
  },
  {
   "cell_type": "markdown",
   "id": "7f335842",
   "metadata": {},
   "source": [
    "**pvalue = 0.1819... больше 0.05**. Для бросков снизу проведённая методика не повлияла на результат."
   ]
  },
  {
   "cell_type": "code",
   "execution_count": 16,
   "id": "970bc48b",
   "metadata": {},
   "outputs": [],
   "source": [
    "_8a_1ha_raz =[_8a_1ha_ps[_] - _8a_1ha_do[_] for _ in range(len(_8a_1ha_ps))]\n",
    "_8b_1ha_raz =[_8b_1ha_ps[_] - _8b_1ha_do[_] for _ in range(len(_8b_1ha_ps))]"
   ]
  },
  {
   "cell_type": "code",
   "execution_count": 17,
   "id": "dedeb126",
   "metadata": {},
   "outputs": [
    {
     "data": {
      "text/plain": [
       "MannwhitneyuResult(statistic=176.5, pvalue=0.0023602242820629183)"
      ]
     },
     "execution_count": 17,
     "metadata": {},
     "output_type": "execute_result"
    }
   ],
   "source": [
    "st.mannwhitneyu(_8a_1ha_raz, _8b_1ha_raz)"
   ]
  },
  {
   "cell_type": "code",
   "execution_count": 18,
   "id": "3a10c47b",
   "metadata": {},
   "outputs": [],
   "source": [
    "_8a_gru_raz =[_8a_gru_ps[_] - _8a_gru_do[_] for _ in range(len(_8a_gru_ps))]\n",
    "_8b_gru_raz =[_8b_gru_ps[_] - _8b_gru_do[_] for _ in range(len(_8b_gru_ps))]"
   ]
  },
  {
   "cell_type": "code",
   "execution_count": 19,
   "id": "1a16e8b6",
   "metadata": {},
   "outputs": [
    {
     "data": {
      "text/plain": [
       "MannwhitneyuResult(statistic=141.5, pvalue=0.00011809641955195683)"
      ]
     },
     "execution_count": 19,
     "metadata": {},
     "output_type": "execute_result"
    }
   ],
   "source": [
    "st.mannwhitneyu(_8a_gru_raz, _8b_gru_raz)"
   ]
  },
  {
   "cell_type": "markdown",
   "id": "a7ad93d9",
   "metadata": {},
   "source": [
    "**pvalue = 0.0023; pvalue = 0.0001... существенно меньше 0.05**,<br> а значит, что для бросков одной рукой и для бросков от груди проведённая методика серьёзно **улучшила результаты**."
   ]
  }
 ],
 "metadata": {
  "kernelspec": {
   "display_name": "Python 3",
   "language": "python",
   "name": "python3"
  },
  "language_info": {
   "codemirror_mode": {
    "name": "ipython",
    "version": 3
   },
   "file_extension": ".py",
   "mimetype": "text/x-python",
   "name": "python",
   "nbconvert_exporter": "python",
   "pygments_lexer": "ipython3",
   "version": "3.8.8"
  }
 },
 "nbformat": 4,
 "nbformat_minor": 5
}
