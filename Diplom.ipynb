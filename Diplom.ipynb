{
 "cells": [
  {
   "cell_type": "markdown",
   "id": "f6ebc16e",
   "metadata": {},
   "source": [
    "Импортируем библиотеку статистического анализа в Python"
   ]
  },
  {
   "cell_type": "code",
   "execution_count": 1,
   "id": "cf2f1b53",
   "metadata": {},
   "outputs": [],
   "source": [
    "import scipy.stats as st"
   ]
  },
  {
   "cell_type": "markdown",
   "id": "507fa234",
   "metadata": {},
   "source": [
    "Введём наши данные результатов тестирования по трём видам бросков сначала до проведения методики, а затем после для **8 \"A\"** класса:"
   ]
  },
  {
   "cell_type": "code",
   "execution_count": 2,
   "id": "bec11a46",
   "metadata": {},
   "outputs": [],
   "source": [
    "_8a_niz_do = [4, 5, 2, 3, 4, 6, 4, 3, 5, 7, 5, 4, 5, 2, 0, 4, 5, 6, 4, 7, 3, 4, 2, 5, 1, 4]\n",
    "_8a_1ha_do = [5, 3, 4, 5, 5, 3, 3, 2, 5, 8, 4, 3, 6, 3, 2, 3, 4, 5, 6, 5, 5, 4, 3, 4, 3, 2]\n",
    "_8a_gru_do = [4, 4, 5, 4, 4, 5, 5, 4, 3, 5, 6, 5, 5, 3, 2, 3, 4, 4, 4, 5, 5, 3, 3, 4, 4, 2]\n",
    "\n",
    "_8a_niz_ps = [5, 5, 3, 4, 5, 6, 5, 4, 5, 7, 6, 4, 5, 4, 2, 4, 5, 6, 4, 7, 4, 4, 2, 5, 2, 4]\n",
    "_8a_1ha_ps = [5, 5, 6, 5, 6, 5, 4, 5, 5, 8, 4, 5, 6, 5, 2, 3, 5, 6, 6, 5, 6, 5, 4, 5, 3, 4]\n",
    "_8a_gru_ps = [4, 5, 5, 6, 5, 5, 5, 4, 4, 6, 6, 5, 6, 5, 4, 3, 5, 6, 4, 5, 6, 4, 4, 5, 4, 5]"
   ]
  },
  {
   "cell_type": "markdown",
   "id": "c3dc5e97",
   "metadata": {},
   "source": [
    "Введём такие же данные теперь для **8 \"Б\"**:"
   ]
  },
  {
   "cell_type": "code",
   "execution_count": 3,
   "id": "e49f1cd5",
   "metadata": {},
   "outputs": [],
   "source": [
    "_8b_niz_do = [3, 4, 3, 4, 4, 5, 5, 3, 2, 3, 4, 4, 3, 5, 3, 0, 4, 3, 2, 6, 4, 3, 5, 6]\n",
    "_8b_1ha_do = [3, 4, 4, 5, 5, 4, 4, 5, 4, 5, 4, 4, 5, 4, 3, 2, 3, 4, 3, 4, 4, 4, 5, 6]\n",
    "_8b_gru_do = [4, 5, 4, 4, 5, 3, 5, 5, 4, 5, 4, 3, 4, 5, 4, 3, 5, 5, 4, 4, 5, 4, 3, 5]\n",
    "\n",
    "_8b_niz_ps = [3, 4, 4, 4, 4, 4, 6, 4, 2, 3, 5, 4, 4, 5, 5, 1, 3, 4, 2, 5, 4, 5, 5, 5]\n",
    "_8b_1ha_ps = [2, 4, 4, 5, 5, 5, 4, 5, 5, 5, 4, 5, 6, 5, 3, 2, 3, 2, 3, 5, 3, 5, 5, 5]\n",
    "_8b_gru_ps = [3, 4, 4, 4, 5, 4, 5, 4, 4, 5, 4, 4, 5, 5, 4, 3, 5, 5, 4, 4, 4, 4, 3, 5]"
   ]
  },
  {
   "cell_type": "markdown",
   "id": "fcdc1ffd",
   "metadata": {},
   "source": [
    "С помощью критерия **Манна-Уитни** найдём есть ли статистически значимая разница при бросках снизу между учениками из 8 \"A\" и 8 \"Б\" классов до проведения методики: "
   ]
  },
  {
   "cell_type": "code",
   "execution_count": 13,
   "id": "7ab8575f",
   "metadata": {},
   "outputs": [
    {
     "data": {
      "text/plain": [
       "MannwhitneyuResult(statistic=265.5, pvalue=0.1801046041972389)"
      ]
     },
     "execution_count": 13,
     "metadata": {},
     "output_type": "execute_result"
    }
   ],
   "source": [
    "st.mannwhitneyu(_8a_niz_do, _8b_niz_do)"
   ]
  },
  {
   "cell_type": "markdown",
   "id": "31145fe4",
   "metadata": {},
   "source": [
    "Значение **pvalue = 0.1801.. больше уровня статистической значимости β = 0.05**.<br>\n",
    "Делаем вывод, что статистически значимых различий при бросках снизу между учениками 8 \"A\" и 8 \"Б\" до проведения методики не обнаружено.\n"
   ]
  },
  {
   "cell_type": "code",
   "execution_count": 5,
   "id": "4e6bf5fb",
   "metadata": {},
   "outputs": [
    {
     "data": {
      "text/plain": [
       "MannwhitneyuResult(statistic=291.5, pvalue=0.34349243083925296)"
      ]
     },
     "execution_count": 5,
     "metadata": {},
     "output_type": "execute_result"
    }
   ],
   "source": [
    "st.mannwhitneyu(_8a_1ha_do, _8b_1ha_do)"
   ]
  },
  {
   "cell_type": "code",
   "execution_count": 6,
   "id": "183a1978",
   "metadata": {},
   "outputs": [
    {
     "data": {
      "text/plain": [
       "MannwhitneyuResult(statistic=276.0, pvalue=0.23169571569915576)"
      ]
     },
     "execution_count": 6,
     "metadata": {},
     "output_type": "execute_result"
    }
   ],
   "source": [
    "st.mannwhitneyu(_8a_gru_do, _8b_gru_do)"
   ]
  },
  {
   "cell_type": "markdown",
   "id": "9767e930",
   "metadata": {},
   "source": [
    "Такие же результаты получили и для двух остальных видов бросков.<br>\n",
    "Можно сделать вывод, что подготовка учеников до проведения методики в двух классах примерна одинакова.\n",
    "<br><br>\n",
    "Выясним, как повлияло обучение по методике на результат. Для этого вычтем из результатов после результаты до проведения методики в обоих классах и сравним их:  "
   ]
  },
  {
   "cell_type": "code",
   "execution_count": 14,
   "id": "90241d4b",
   "metadata": {},
   "outputs": [],
   "source": [
    "_8a_niz_raz =[_8a_niz_ps[_] - _8a_niz_do[_] for _ in range(len(_8a_niz_ps))]\n",
    "_8b_niz_raz =[_8b_niz_ps[_] - _8b_niz_do[_] for _ in range(len(_8b_niz_ps))]"
   ]
  },
  {
   "cell_type": "code",
   "execution_count": 15,
   "id": "1989d28e",
   "metadata": {},
   "outputs": [
    {
     "data": {
      "text/plain": [
       "MannwhitneyuResult(statistic=269.0, pvalue=0.1819144758639507)"
      ]
     },
     "execution_count": 15,
     "metadata": {},
     "output_type": "execute_result"
    }
   ],
   "source": [
    "st.mannwhitneyu(_8a_niz_raz, _8b_niz_raz)"
   ]
  },
  {
   "cell_type": "markdown",
   "id": "0f0e0b8e",
   "metadata": {},
   "source": [
    "**pvalue = 0.1819... больше 0.05**. Для бросков снизу проведённая методика не повлияла на результат."
   ]
  },
  {
   "cell_type": "code",
   "execution_count": 16,
   "id": "1a75fb1a",
   "metadata": {},
   "outputs": [],
   "source": [
    "_8a_1ha_raz =[_8a_1ha_ps[_] - _8a_1ha_do[_] for _ in range(len(_8a_1ha_ps))]\n",
    "_8b_1ha_raz =[_8b_1ha_ps[_] - _8b_1ha_do[_] for _ in range(len(_8b_1ha_ps))]"
   ]
  },
  {
   "cell_type": "code",
   "execution_count": 17,
   "id": "6af7e984",
   "metadata": {},
   "outputs": [
    {
     "data": {
      "text/plain": [
       "MannwhitneyuResult(statistic=176.5, pvalue=0.0023602242820629183)"
      ]
     },
     "execution_count": 17,
     "metadata": {},
     "output_type": "execute_result"
    }
   ],
   "source": [
    "st.mannwhitneyu(_8a_1ha_raz, _8b_1ha_raz)"
   ]
  },
  {
   "cell_type": "code",
   "execution_count": 18,
   "id": "b76ba8a3",
   "metadata": {},
   "outputs": [],
   "source": [
    "_8a_gru_raz =[_8a_gru_ps[_] - _8a_gru_do[_] for _ in range(len(_8a_gru_ps))]\n",
    "_8b_gru_raz =[_8b_gru_ps[_] - _8b_gru_do[_] for _ in range(len(_8b_gru_ps))]"
   ]
  },
  {
   "cell_type": "code",
   "execution_count": 19,
   "id": "41b16a79",
   "metadata": {},
   "outputs": [
    {
     "data": {
      "text/plain": [
       "MannwhitneyuResult(statistic=141.5, pvalue=0.00011809641955195683)"
      ]
     },
     "execution_count": 19,
     "metadata": {},
     "output_type": "execute_result"
    }
   ],
   "source": [
    "st.mannwhitneyu(_8a_gru_raz, _8b_gru_raz)"
   ]
  },
  {
   "cell_type": "markdown",
   "id": "d2d8a21c",
   "metadata": {},
   "source": [
    "**pvalue = 0.0023; pvalue = 0.0001... существенно меньше 0.05**,<br> а значит, что для бросков одной рукой и для бросков от груди проведённая методика серьёзно **улучшила результаты**."
   ]
  }
 ],
 "metadata": {
  "kernelspec": {
   "display_name": "Python 3",
   "language": "python",
   "name": "python3"
  },
  "language_info": {
   "codemirror_mode": {
    "name": "ipython",
    "version": 3
   },
   "file_extension": ".py",
   "mimetype": "text/x-python",
   "name": "python",
   "nbconvert_exporter": "python",
   "pygments_lexer": "ipython3",
   "version": "3.8.8"
  }
 },
 "nbformat": 4,
 "nbformat_minor": 5
}
