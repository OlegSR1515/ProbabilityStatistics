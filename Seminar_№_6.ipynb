{
 "cells": [
  {
   "cell_type": "markdown",
   "id": "aeadb62f",
   "metadata": {},
   "source": [
    "<!--<div align=\"center\">Семинар № 6-->\n",
    "\n",
    "<div align=\"center\"><font color=#8A2BE2 size=5 face=\"segoe print\"><strong>Семинар № 6</strong></font></div>"
   ]
  },
  {
   "cell_type": "markdown",
   "id": "231506cf",
   "metadata": {},
   "source": [
    "<div class=\"alert alert-block alert-info\"><em>\n",
    "<b>ЗАДАЧА № 1.</b><br> Известно, что генеральная совокупность распределена нормально\n",
    "со средним квадратическим отклонением, равным 16.\n",
    "Найти доверительный интервал для оценки математического ожидания a\n",
    "с надежностью 0.95, если выборочная средняя M = 80, а объем выборки n = 256.\n",
    "</em></div>"
   ]
  },
  {
   "cell_type": "markdown",
   "id": "5a0e7bb9",
   "metadata": {},
   "source": [
    "<font size=\"2px\">Поскольку генеральная совокупность распределена нормально\n",
    "и нам известно её среднее квадратичное отклонение,<br>\n",
    "то доверительный интервал найдём по формуле : \n",
    "<font size=\"4px\">$B_{L/R} = \\bar X \\pm Z_{tab}\\frac{\\sigma}{\\sqrt{n}}$</b>,<font size=\"2px\"> где<br>\n",
    "$\\bar X = M = 80$ - среднее по выборке;<br>\n",
    "$Z_{tab}$ - табличное значение $Z$-критерия для двусторонней оценки $\\alpha = (1-95\\%)\\ /\\ 2=0,025$;<br>\n",
    "$\\sigma = 16$ - среднее квадратичное отклонение генеральной совокупности;<br>\n",
    "$n = 256$ - объем выборки.\n",
    "<br><br>  \n",
    "Для решения этой и следующих задач импортируем необходимые Python-библиотеки:"
   ]
  },
  {
   "cell_type": "code",
   "execution_count": 31,
   "id": "f54b9976",
   "metadata": {},
   "outputs": [],
   "source": [
    "import numpy as np\n",
    "import scipy.stats as st"
   ]
  },
  {
   "cell_type": "markdown",
   "id": "13111589",
   "metadata": {},
   "source": [
    "<font size=\"2px\">Найдем табличное значение $z$ -критерия, для $\\alpha = 0.025$:"
   ]
  },
  {
   "cell_type": "code",
   "execution_count": 18,
   "id": "8ba237be",
   "metadata": {},
   "outputs": [
    {
     "data": {
      "text/plain": [
       "1.959963984540054"
      ]
     },
     "execution_count": 18,
     "metadata": {},
     "output_type": "execute_result"
    }
   ],
   "source": [
    "z_tab1=st.norm.ppf(1-0.025)\n",
    "z_tab1"
   ]
  },
  {
   "cell_type": "code",
   "execution_count": 19,
   "id": "71d8d1a1",
   "metadata": {},
   "outputs": [
    {
     "data": {
      "text/plain": [
       "(78.04003601545995, 81.95996398454005)"
      ]
     },
     "execution_count": 19,
     "metadata": {},
     "output_type": "execute_result"
    }
   ],
   "source": [
    "B_left = 80 - z_tab1 * 16/ np.sqrt(256)\n",
    "B_right = 80 + z_tab1 * 16/ np.sqrt(256)\n",
    "B_left, B_right"
   ]
  },
  {
   "cell_type": "markdown",
   "id": "034fd04b",
   "metadata": {},
   "source": [
    "<div class=\"alert alert-block alert-success\"><em>\n",
    "<b>Ответ:</b><br> Доверительный интервал равен : $[78,04 ; 81,96]$\n",
    "</em></div>\n",
    "\n",
    "***"
   ]
  },
  {
   "cell_type": "markdown",
   "id": "9ca683ec",
   "metadata": {},
   "source": [
    "<div class=\"alert alert-block alert-info\"><em>\n",
    "<b> ЗАДАЧА № 2. </b><br>В результате 10 независимых измерений некоторой величины X,\n",
    "выполненных с одинаковой точностью, получены опытные данные:\n",
    "6.9, 6.1, 6.2, 6.8, 7.5, 6.3, 6.4, 6.9, 6.7, 6.1\n",
    "Предполагая, что результаты измерений подчинены нормальному закону распределения вероятностей,\n",
    "оценить истинное значение величины X при помощи доверительного интервала,\n",
    "покрывающего это значение с доверительной вероятностью 0,95.\n",
    "</em></div>"
   ]
  },
  {
   "cell_type": "markdown",
   "id": "4b6c4ee8",
   "metadata": {},
   "source": [
    "<font size=\"2px\">Границы доверительного интервала найдём при помощи формулы : \n",
    "<font size=\"4px\">$B_{L/R} = \\bar X \\pm t_{tab}\\frac{\\sigma_{несм}}{\\sqrt{n}}$</b><font size=\"2px\">, где<br>\n",
    "$\\bar X $ - среднее по выборке;<br>\n",
    "$t_{tab}$ - табличное значение $t$-критерия Стьюдента для двусторонней оценки $\\alpha = (1-95\\%)\\ /\\ 2=0,025$;<br>\n",
    "$\\sigma $ - несмещённое среднее квадратичное выборки;<br>\n",
    "$n $ - объем выборки.\n",
    "<br><br> "
   ]
  },
  {
   "cell_type": "code",
   "execution_count": 20,
   "id": "c91c6295",
   "metadata": {},
   "outputs": [
    {
     "name": "stdout",
     "output_type": "stream",
     "text": [
      "среднее - 6.590000000000001\n"
     ]
    }
   ],
   "source": [
    "a = np.array([6.9, 6.1, 6.2, 6.8, 7.5, 6.3, 6.4, 6.9, 6.7, 6.1])\n",
    "print(f'среднее - {a.mean()}')"
   ]
  },
  {
   "cell_type": "code",
   "execution_count": 21,
   "id": "391d70ef",
   "metadata": {},
   "outputs": [
    {
     "name": "stdout",
     "output_type": "stream",
     "text": [
      "Среднее квадратическое отклонение по выборке (несмещенное) - 0.4508017549014448\n"
     ]
    }
   ],
   "source": [
    "a_stot = a.std(ddof = 1)\n",
    "print(f'Среднее квадратическое отклонение по выборке (несмещенное) - {a_stot}')"
   ]
  },
  {
   "cell_type": "code",
   "execution_count": 22,
   "id": "1476dff4",
   "metadata": {},
   "outputs": [
    {
     "data": {
      "text/plain": [
       "2.2621571627409915"
      ]
     },
     "execution_count": 22,
     "metadata": {},
     "output_type": "execute_result"
    }
   ],
   "source": [
    "t_tab1=st.t.ppf(1-0.025, 10-1)\n",
    "t_tab1"
   ]
  },
  {
   "cell_type": "code",
   "execution_count": 23,
   "id": "5702687a",
   "metadata": {},
   "outputs": [
    {
     "data": {
      "text/plain": [
       "(6.2675158514157125, 6.912484148584287)"
      ]
     },
     "execution_count": 23,
     "metadata": {},
     "output_type": "execute_result"
    }
   ],
   "source": [
    "B_left = 6.59 - t_tab1 * a_stot/ np.sqrt(10)\n",
    "B_right = 6.59 + t_tab1 * a_stot/ np.sqrt(10)\n",
    "B_left, B_right"
   ]
  },
  {
   "cell_type": "markdown",
   "id": "8f041732",
   "metadata": {},
   "source": [
    "<div class=\"alert alert-block alert-success\"><em>\n",
    "<b>Ответ:</b><br> $X$ принадлежит интервалу $[6,27;6,91]$ с вероятностью $95 \\%$.\n",
    "</em></div>\n",
    "\n",
    "***"
   ]
  },
  {
   "cell_type": "markdown",
   "id": "b2c0c74f",
   "metadata": {},
   "source": [
    "<div class=\"alert alert-block alert-info\"><em>\n",
    "<b> ЗАДАЧА № 3. </b><br>Рост дочерей 175, 167, 154, 174, 178, 148, 160, 167, 169, 170<br>\n",
    "Рост матерей 178, 165, 165, 173, 168, 155, 160, 164, 178, 175<br>\n",
    "Используя эти данные построить 95% доверительный интервал для разности среднего роста родителей и детей.\n",
    "</em></div>"
   ]
  },
  {
   "cell_type": "markdown",
   "id": "cc3dce2c",
   "metadata": {},
   "source": [
    "<font size=\"2px\">Границы доверительного интервала найдём при помощи формулы : \n",
    "<font size=\"4px\">$B_{L/R} = \\Delta\\pm t_{\\alpha/2}S_{\\Delta}$, <font size=\"2px\">где<br>\n",
    "$\\Delta = \\bar X_1 - \\bar X_2$<font size=\"2px\"> и<br>\n",
    "$\\bar X_1, \\bar X_2$ - средние по выборкам;<br>\n",
    "$t_{\\alpha/2}$ - табличное значение $t$-критерия Стьюдента для двусторонней оценки $\\alpha = (1-95\\%)\\ /\\ 2=0,025$;<br>\n",
    "$S_{\\Delta} = \\sqrt{\\frac{D}{n_1} + \\frac{D}{n_2}}$<font size=\"2px\"> и<br>\n",
    "$D = \\frac{D_1+D_2}{2}$<font size=\"2px\"> и<br>\n",
    "$D_1, D_2$ - дисперсии выборок;<br>\n",
    "$n_1, n_2$ - объёмы выборок."
   ]
  },
  {
   "cell_type": "code",
   "execution_count": 24,
   "id": "8d9054b3",
   "metadata": {},
   "outputs": [],
   "source": [
    "b = np.array([175, 167, 154, 174, 178, 148, 160, 167, 169, 170])\n",
    "c = np.array([178, 165, 165, 173, 168, 155, 160, 164, 178, 175])"
   ]
  },
  {
   "cell_type": "markdown",
   "id": "d441a1f2",
   "metadata": {},
   "source": [
    "<font size=\"2px\">Разность среднего роста <b>родителей и детей</b>, поэтому <b>c - b :</b>"
   ]
  },
  {
   "cell_type": "code",
   "execution_count": 30,
   "id": "f49c5684",
   "metadata": {},
   "outputs": [
    {
     "data": {
      "text/plain": [
       "1.9000000000000057"
      ]
     },
     "execution_count": 30,
     "metadata": {},
     "output_type": "execute_result"
    }
   ],
   "source": [
    "delta = c.mean() - b.mean()\n",
    "delta"
   ]
  },
  {
   "cell_type": "code",
   "execution_count": 32,
   "id": "29875064",
   "metadata": {},
   "outputs": [
    {
     "data": {
      "text/plain": [
       "2.10092204024096"
      ]
     },
     "execution_count": 32,
     "metadata": {},
     "output_type": "execute_result"
    }
   ],
   "source": [
    "t_tab2 = st.t.ppf(1-0.025, len(b) + len(c) - 2)\n",
    "t_tab2"
   ]
  },
  {
   "cell_type": "code",
   "execution_count": 33,
   "id": "ee3971bf",
   "metadata": {},
   "outputs": [
    {
     "data": {
      "text/plain": [
       "75.58333333333334"
      ]
     },
     "execution_count": 33,
     "metadata": {},
     "output_type": "execute_result"
    }
   ],
   "source": [
    "disp = (np.var(b, ddof=1) + np.var(c, ddof=1)) / 2\n",
    "disp"
   ]
  },
  {
   "cell_type": "code",
   "execution_count": 34,
   "id": "0c54d0e5",
   "metadata": {},
   "outputs": [
    {
     "data": {
      "text/plain": [
       "3.8880157750022915"
      ]
     },
     "execution_count": 34,
     "metadata": {},
     "output_type": "execute_result"
    }
   ],
   "source": [
    "s_delta = np.sqrt(disp / len(b) + disp / len(c))\n",
    "s_delta"
   ]
  },
  {
   "cell_type": "code",
   "execution_count": 35,
   "id": "b02f7d50",
   "metadata": {},
   "outputs": [
    {
     "data": {
      "text/plain": [
       "(-6.268418034506846, 10.068418034506857)"
      ]
     },
     "execution_count": 35,
     "metadata": {},
     "output_type": "execute_result"
    }
   ],
   "source": [
    "bor_l = delta - t_tab2 * s_delta\n",
    "bor_r = delta + t_tab2 * s_delta\n",
    "bor_l,bor_r"
   ]
  },
  {
   "cell_type": "markdown",
   "id": "103eb374",
   "metadata": {},
   "source": [
    "<div class=\"alert alert-block alert-success\"><em>\n",
    "<b>Ответ:</b><br>$95\\%$ доверительный интервал для разности среднего роста матерей и дочерей: $[-6,27 ; 10,07]$\n",
    "</em></div>"
   ]
  }
 ],
 "metadata": {
  "kernelspec": {
   "display_name": "Python 3",
   "language": "python",
   "name": "python3"
  },
  "language_info": {
   "codemirror_mode": {
    "name": "ipython",
    "version": 3
   },
   "file_extension": ".py",
   "mimetype": "text/x-python",
   "name": "python",
   "nbconvert_exporter": "python",
   "pygments_lexer": "ipython3",
   "version": "3.8.8"
  }
 },
 "nbformat": 4,
 "nbformat_minor": 5
}
