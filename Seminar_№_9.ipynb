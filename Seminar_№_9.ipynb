{
 "cells": [
  {
   "cell_type": "markdown",
   "id": "ffc91de1",
   "metadata": {},
   "source": [
    "<!--<div align=\"center\">Семинар № 5-->\n",
    "\n",
    "<div align=\"center\"><font color=#4682B4 size=5 face=\n",
    "                          \"segoe print\"><em><strong>Семинар № 9</strong></em></font></div>"
   ]
  },
  {
   "cell_type": "markdown",
   "id": "73776e08",
   "metadata": {},
   "source": [
    "<div class=\"alert alert-block alert-info\"><em>\n",
    "<b>ЗАДАЧА № 1.</b><br> Даны значения величины заработной платы заемщиков банка (zp) и<br>\n",
    "значения их поведенческого кредитного скоринга (ks):<br>\n",
    "zp = [35, 45, 190, 200, 40, 70, 54, 150, 120, 110],<br>\n",
    "ks = [401, 574, 874, 919, 459, 739, 653, 902, 746, 832].<br>\n",
    "Используя математические операции, посчитать коэффициенты линейной регрессии,<br>\n",
    "приняв за X заработную плату (то есть, zp - признак),<br> а за y - значения скорингового балла\n",
    "(то есть, ks - целевая переменная).<br>\n",
    "Произвести расчет как с использованием intercept, так и без.\n",
    "</em></div>"
   ]
  },
  {
   "cell_type": "markdown",
   "id": "36e00d8b",
   "metadata": {},
   "source": [
    "<font size=\"2px\">Коэффициенты линейной регрессии (с интерсептом и без) найдем двумя способами :<br>\n",
    "    \n",
    "<font size=\"4px\">1.а. Математические формулы ( без интерсепта )."
   ]
  },
  {
   "cell_type": "markdown",
   "id": "3cd46e66",
   "metadata": {},
   "source": [
    "### $\\widehat{y}=\\beta x$<font size=\"2px\">, где <font size=\"3px\">$\\hat \\beta=\\frac{\\displaystyle n\\sum_{i=1}^n x_i y_i}{\\displaystyle \\sum_{i=1}^n x_i^2}$"
   ]
  },
  {
   "cell_type": "code",
   "execution_count": 181,
   "id": "84249c04",
   "metadata": {},
   "outputs": [],
   "source": [
    "zp = [35, 45, 190, 200, 40, 70, 54, 150, 120, 110]\n",
    "ks = [401, 574, 874, 919, 459, 739, 653, 902, 746, 832]\n",
    "n = len(zp)"
   ]
  },
  {
   "cell_type": "markdown",
   "id": "e91155e4",
   "metadata": {},
   "source": [
    "<font size=\"2px\">Подготовим данные"
   ]
  },
  {
   "cell_type": "code",
   "execution_count": 182,
   "id": "fb247f21",
   "metadata": {},
   "outputs": [],
   "source": [
    "pr = [zp[i] * ks[i] for i in range(n)]\n",
    "zp2 = [zp[i] ** 2 for i in range(n)]"
   ]
  },
  {
   "cell_type": "code",
   "execution_count": 183,
   "id": "899ba6c9",
   "metadata": {},
   "outputs": [
    {
     "name": "stdout",
     "output_type": "stream",
     "text": [
      "Коэффициент B =  5.8898204201\n"
     ]
    }
   ],
   "source": [
    "b = (sum(pr) / n) / (sum(zp2) / n)\n",
    "print(f'Коэффициент B = {b: 0.10f}')"
   ]
  },
  {
   "cell_type": "markdown",
   "id": "3ee10b73",
   "metadata": {},
   "source": [
    "<font size=\"4px\">1.б. Математические формулы ( с интерсептом )."
   ]
  },
  {
   "cell_type": "markdown",
   "id": "73ffea62",
   "metadata": {},
   "source": [
    "### $\\widehat{y}=\\beta_0+\\beta_1x$\t,<font size=\"2px\"> где <font size=\"3px\">$\\beta_0=\\underline y - \\beta_1 \\underline x$<font size=\"2px\"> и<br>\n",
    "<font size=\"3px\">$\\underline y=\\frac{\\displaystyle \\sum_{i=1}^n y_i}{\\displaystyle n} ;\\underline x=\\frac{\\displaystyle \\sum_{i=1}^n x_i}{\\displaystyle n} .$   \n",
    "    \n",
    "    "
   ]
  },
  {
   "cell_type": "markdown",
   "id": "baf4f6fe",
   "metadata": {},
   "source": [
    "#### $\\beta_1=\\frac{\\displaystyle n\\sum_{i=1}^n x_i y_i - \\sum_{i=1}^n x_i \\sum_{i=1}^n y_i}\n",
    "{\\displaystyle n\\sum_{i=1}^n x_i^2 - \\left(\\sum_{i=1}^n x_i\\right)^2}$\n",
    "\n"
   ]
  },
  {
   "cell_type": "markdown",
   "id": "0b7e6a1e",
   "metadata": {},
   "source": [
    "<font size=\"2px\">Тогда значения<font size=\"3px\">$\\beta_1$ и $\\beta_0$<font size=\"2px\"> :"
   ]
  },
  {
   "cell_type": "code",
   "execution_count": 184,
   "id": "b81aca6f",
   "metadata": {},
   "outputs": [
    {
     "name": "stdout",
     "output_type": "stream",
     "text": [
      "Коэффициенты B0 =  444.177, B1 =  2.621\n"
     ]
    }
   ],
   "source": [
    "b_1 = (n * sum(pr) - sum(zp) * sum(ks)) / (n * sum(zp2) - sum(zp) ** 2)\n",
    "b_0 = sum(ks) / n - b_1 * sum(zp) / n\n",
    "print(f'Коэффициенты B0 = {b_0: 0.3f}, B1 = {b_1: 0.3f}')"
   ]
  },
  {
   "cell_type": "markdown",
   "id": "0aeaab4b",
   "metadata": {},
   "source": [
    "<font size=\"2px\">Такие же значения коэффициентов можно получить с помощью функции из _**Numpy Python**_-библиотеки."
   ]
  },
  {
   "cell_type": "code",
   "execution_count": 185,
   "id": "1340635c",
   "metadata": {},
   "outputs": [
    {
     "name": "stdout",
     "output_type": "stream",
     "text": [
      "B0n =  444.177, B1n =  2.621\n"
     ]
    }
   ],
   "source": [
    "import numpy as np\n",
    "b_1n, b_0n = np.polyfit(zp, ks, deg=1)\n",
    "print(f'B0n = {b_0n: 0.3f}, B1n = {b_1n: 0.3f}')"
   ]
  },
  {
   "cell_type": "markdown",
   "id": "9f9c7674",
   "metadata": {},
   "source": [
    "<div class=\"alert alert-block alert-success\"><em>\n",
    "<font size=\"3px\">Рассчитанное по математическим формулам уравнение линейной регрессии ( без интерсепта)<br>  имеет вид :<font size=\"4px\"><font size=\"3px\">$\\displaystyle y = 5,9 x $,<br> \n",
    " а уравнение линейной регрессии ( с интерсептом) имеет вид :<font size=\"3px\">\n",
    " $\\displaystyle y = 444,2 + 2,6 x $     \n",
    "</em></div>"
   ]
  },
  {
   "cell_type": "markdown",
   "id": "cbf812d2",
   "metadata": {},
   "source": [
    "<font size=\"2px\">Построим график с решением :"
   ]
  },
  {
   "cell_type": "code",
   "execution_count": 186,
   "id": "941e308f",
   "metadata": {},
   "outputs": [
    {
     "data": {
      "image/png": "[encoded data removed]",
      "text/plain": [
       "<Figure size 936x504 with 1 Axes>"
      ]
     },
     "metadata": {
      "needs_background": "light"
     },
     "output_type": "display_data"
    }
   ],
   "source": [
    "import matplotlib.pyplot as plt\n",
    "x = np.arange(-5, 205, 0.01)\n",
    "y0 = b * x\n",
    "y1 = b_0 + b_1 * x\n",
    "\n",
    "with plt.style.context('bmh'):\n",
    "    plt.figure(figsize=(13, 7))\n",
    "    plt.xlabel('Заработная плата', c = 'k', alpha=0.6)\n",
    "    plt.ylabel('Кредитный скоринг', c = 'k', alpha=0.6)\n",
    "    plt.plot(x, y1, c = 'b', label=\"$ks = 444,2 + 2,6 zp $\")\n",
    "    plt.plot(x, y0, c = 'g', label=\"$ks = 5,9 zp $\")\n",
    "    plt.scatter(zp,ks, c = 'm', label=\"$данные$\")\n",
    "    plt.legend(fontsize='xx-large', facecolor='w', shadow=True)\n",
    "    for i in range(n):\n",
    "        plt.plot((zp[i], zp[i]),(b_0 + b_1 * zp[i],ks[i]), 'r--')\n",
    "    plt.show()"
   ]
  },
  {
   "cell_type": "markdown",
   "id": "6000c0db",
   "metadata": {},
   "source": [
    "<font size=\"4px\">2.а. Матричный метод ( без интерсепта )."
   ]
  },
  {
   "cell_type": "markdown",
   "id": "0214cd1c",
   "metadata": {},
   "source": [
    "$\n",
    "\\begin{bmatrix}\n",
    "y_1\\\\\n",
    "y_2\\\\\n",
    "y_3\\\\\n",
    "\\vdots\\\\\n",
    "y_n\\\\\n",
    "\\end{bmatrix} = \n",
    "$\n",
    "$\n",
    "\\begin{bmatrix}\n",
    "x_1 \\\\\n",
    "x_2 \\\\\n",
    "x_3 \\\\\n",
    "\\vdots\\\\\n",
    "x_n\\\\\n",
    "\\end{bmatrix} \\times \\beta\n",
    "$"
   ]
  },
  {
   "cell_type": "markdown",
   "id": "f2e6ea67",
   "metadata": {},
   "source": [
    "$\\beta=(X_0^Т \\times X_0)^{-1}\\times X_0^Т \\times Y$"
   ]
  },
  {
   "cell_type": "markdown",
   "id": "3b699a48",
   "metadata": {},
   "source": [
    "<font size=\"2px\">Подготовим данные"
   ]
  },
  {
   "cell_type": "code",
   "execution_count": 187,
   "id": "47d150c1",
   "metadata": {},
   "outputs": [
    {
     "data": {
      "text/plain": [
       "[[35], [45], [190], [200], [40], [70], [54], [150], [120], [110]]"
      ]
     },
     "execution_count": 187,
     "metadata": {},
     "output_type": "execute_result"
    }
   ],
   "source": [
    "zpM_0 = [[el] for el in zp]\n",
    "zpM_0"
   ]
  },
  {
   "cell_type": "code",
   "execution_count": 188,
   "id": "81a8644f",
   "metadata": {},
   "outputs": [
    {
     "data": {
      "text/plain": [
       "[[401], [574], [874], [919], [459], [739], [653], [902], [746], [832]]"
      ]
     },
     "execution_count": 188,
     "metadata": {},
     "output_type": "execute_result"
    }
   ],
   "source": [
    "ksM = [[el] for el in ks]\n",
    "ksM"
   ]
  },
  {
   "cell_type": "code",
   "execution_count": 189,
   "id": "f5c43ba2",
   "metadata": {},
   "outputs": [
    {
     "data": {
      "text/plain": [
       "[[35, 45, 190, 200, 40, 70, 54, 150, 120, 110]]"
      ]
     },
     "execution_count": 189,
     "metadata": {},
     "output_type": "execute_result"
    }
   ],
   "source": [
    "zpM_0_T = [zp]\n",
    "zpM_0_T"
   ]
  },
  {
   "cell_type": "markdown",
   "id": "076aa54c",
   "metadata": {},
   "source": [
    "<font size=\"2px\">Нахождение обратной матрицы и умножение матриц простыми средствами\n",
    "_**Python**_ преставляется<br> излишне трудозатратным и ,очевидно, выходящим за рамки данной задачи,<br>поэтому воспользуемся встроенными функциями из _**Numpy Python**_-библиотеки.\n"
   ]
  },
  {
   "cell_type": "code",
   "execution_count": 190,
   "id": "6894248a",
   "metadata": {},
   "outputs": [],
   "source": [
    "zpM_0n = np.array(zpM_0)\n",
    "ksMn = np.array(ksM)\n",
    "zpM_0_Tn = np.array(zpM_0_T)"
   ]
  },
  {
   "cell_type": "code",
   "execution_count": 191,
   "id": "b19fbde5",
   "metadata": {},
   "outputs": [
    {
     "name": "stdout",
     "output_type": "stream",
     "text": [
      "Коэффициент B =  5.890\n"
     ]
    }
   ],
   "source": [
    "bM = np.linalg.inv(zpM_0_Tn @ zpM_0n) @ zpM_0_Tn @ ksMn\n",
    "bM\n",
    "print(f'Коэффициент B = {bM[0, 0]: 0.3f}')"
   ]
  },
  {
   "cell_type": "markdown",
   "id": "b1c31151",
   "metadata": {},
   "source": [
    "<font size=\"4px\">2.б. Матричный метод ( с интерсептом )."
   ]
  },
  {
   "cell_type": "markdown",
   "id": "d2ee711a",
   "metadata": {},
   "source": [
    "$\n",
    "\\begin{bmatrix}\n",
    "y_1\\\\\n",
    "y_2\\\\\n",
    "y_3\\\\\n",
    "\\vdots\\\\\n",
    "y_n\\\\\n",
    "\\end{bmatrix} = \n",
    "$\n",
    "$\n",
    "\\begin{bmatrix}\n",
    "1 & x_1 \\\\\n",
    "1 & x_2 \\\\\n",
    "1 & x_3 \\\\\n",
    "\\vdots & \\vdots\\\\\n",
    "1 & x_n\\\\\n",
    "\\end{bmatrix} \\times\n",
    " $\n",
    "$\n",
    "\\begin{bmatrix}\n",
    "\\beta_0\\\\\n",
    "\\beta_1\\\\\n",
    "\\end{bmatrix}\n",
    "$"
   ]
  },
  {
   "cell_type": "markdown",
   "id": "e7f30865",
   "metadata": {},
   "source": [
    "$\n",
    "\\widehat B = \\begin{bmatrix}\n",
    "\\beta_0\\\\\n",
    "\\beta_1\\\\\n",
    "\\end{bmatrix} =\n",
    "$\n",
    "$(X_1^Т \\times X_1)^{-1}\\times X_1^Т \\times Y\n",
    "$"
   ]
  },
  {
   "cell_type": "markdown",
   "id": "82e3e1eb",
   "metadata": {},
   "source": [
    "<font size=\"2px\">Подготовим данные"
   ]
  },
  {
   "cell_type": "code",
   "execution_count": 192,
   "id": "95308c04",
   "metadata": {},
   "outputs": [
    {
     "data": {
      "text/plain": [
       "[[1, 35],\n",
       " [1, 45],\n",
       " [1, 190],\n",
       " [1, 200],\n",
       " [1, 40],\n",
       " [1, 70],\n",
       " [1, 54],\n",
       " [1, 150],\n",
       " [1, 120],\n",
       " [1, 110]]"
      ]
     },
     "execution_count": 192,
     "metadata": {},
     "output_type": "execute_result"
    }
   ],
   "source": [
    "zpM_1 = [[1, el] for el in zp]\n",
    "zpM_1"
   ]
  },
  {
   "cell_type": "code",
   "execution_count": 193,
   "id": "e0de87b7",
   "metadata": {},
   "outputs": [
    {
     "data": {
      "text/plain": [
       "[[1, 1, 1, 1, 1, 1, 1, 1, 1, 1], [35, 45, 190, 200, 40, 70, 54, 150, 120, 110]]"
      ]
     },
     "execution_count": 193,
     "metadata": {},
     "output_type": "execute_result"
    }
   ],
   "source": [
    "zpM_1_T = [[1] * n, zp]\n",
    "zpM_1_T"
   ]
  },
  {
   "cell_type": "code",
   "execution_count": 194,
   "id": "1707f311",
   "metadata": {},
   "outputs": [],
   "source": [
    "zpM_1n = np.array(zpM_1)\n",
    "zpM_1_Tn = np.array(zpM_1_T)"
   ]
  },
  {
   "cell_type": "code",
   "execution_count": 195,
   "id": "195ec4aa",
   "metadata": {},
   "outputs": [
    {
     "name": "stdout",
     "output_type": "stream",
     "text": [
      "Коэффициенты B0 =  444.177, B1 =  2.621\n"
     ]
    }
   ],
   "source": [
    "bM_0, bM_1 = np.linalg.inv(zpM_1_Tn @ zpM_1n) @ zpM_1_Tn @ ksMn\n",
    "bM_0, bM_1\n",
    "print(f'Коэффициенты B0 = {bM_0[0]: 0.3f}, B1 = {bM_1[0]: 0.3f}')"
   ]
  },
  {
   "cell_type": "markdown",
   "id": "51a489c9",
   "metadata": {},
   "source": [
    "<div class=\"alert alert-block alert-success\"><em>\n",
    "<font size=\"3px\">Рассчитанное матричным методом уравнение линейной регрессии ( без интерсепта)<br>  имеет вид :<font size=\"3px\">$\\displaystyle y = 5,9 x $,<br> \n",
    " а уравнение линейной регрессии ( с интерсептом) имеет вид :<font size=\"3px\">\n",
    " $\\displaystyle y = 444,2 + 2,6 x $ <br>\n",
    "    \n",
    "<b>Ответ:</b><br>Уравненияб рассчитанные двумя разными методами идентичны.    \n",
    "</em></div>\n",
    "    \n",
    "***"
   ]
  },
  {
   "cell_type": "markdown",
   "id": "1de78ca2",
   "metadata": {},
   "source": [
    "<div class=\"alert alert-block alert-info\"><em>\n",
    "<b> ЗАДАЧА № 2. </b><br> Посчитать коэффициент линейной регрессии при заработной плате (zp),<br>\n",
    "используя градиентный спуск (без intercept).\n",
    "</em></div>"
   ]
  },
  {
   "cell_type": "markdown",
   "id": "40bed4ac",
   "metadata": {},
   "source": [
    "<font size=\"2px\">Предположим, что мы не делали расчётов в предыдущей задаче,<br>\n",
    "и нам необходимо найти линейную функцию вида : <font size=\"3px\">$\\widehat{y}=\\beta x$<br>\n",
    "<font size=\"2px\">Мерой измерения ошибок примем среднеквадратичное отклонение данных в задаче от предсказанных прямой :<font size=\"3px\"> $mse = \\frac{1}{\\displaystyle n}\\displaystyle \\sum_{i=1}^n(ks - \\widehat{y})^2$ <br>\n",
    "<font size=\"2px\">Тогда необходимо найти такое <font size=\"3px\">$\\beta$<font size=\"2px\">,\n",
    "когда <font size=\"3px\">$mse$<font size=\"2px\"> минимально.\n",
    "<br><br>\n",
    "Для начала полезно сделать следующую визуализацию :    "
   ]
  },
  {
   "cell_type": "code",
   "execution_count": 196,
   "id": "4b10e7c7",
   "metadata": {},
   "outputs": [
    {
     "data": {
      "image/png": "[encoded data removed]",
      "text/plain": [
       "<Figure size 936x504 with 1 Axes>"
      ]
     },
     "metadata": {
      "needs_background": "light"
     },
     "output_type": "display_data"
    }
   ],
   "source": [
    "import matplotlib.pyplot as plt\n",
    "x = np.arange(-5, 205, 0.01)\n",
    "y_n = 4 * x\n",
    "y_v = 15 * x\n",
    "y_i = 8 * x\n",
    "\n",
    "with plt.style.context('bmh'):\n",
    "    plt.figure(figsize=(13, 7))\n",
    "    plt.xlabel('Заработная плата', c = 'k', alpha=0.6)\n",
    "    plt.ylabel('Кредитный скоринг', c = 'k', alpha=0.6)\n",
    "    plt.plot(x, y_n, c = 'k', alpha=0.5,  ls = '--', label=\"$ks = 4 zp $\")\n",
    "    plt.plot(x, y_v, c = 'k', alpha=0.5, ls = '--', label=\"$ks = 15 zp $\")\n",
    "    plt.fill_between (x, y_n, y_v, color='b', alpha= .05)\n",
    "    plt.plot(x, y_i, c = 'g', alpha=1, ls = '--', label=\"$искомая$ $прямая(примерно)$\")\n",
    "    plt.scatter(zp,ks, c = 'm', label=\"$данные$\")\n",
    "    plt.legend(fontsize='large', facecolor='w', shadow=True)\n",
    "\n",
    "plt.show()"
   ]
  },
  {
   "cell_type": "markdown",
   "id": "5ee9e07d",
   "metadata": {},
   "source": [
    "<font size=\"2px\">Из графика понятно, что искомая прямая проходит через начало координат и лежит в области ограниченной двумя прямыми сверху и снизу, а значит $4 < \\beta < 15$."
   ]
  },
  {
   "cell_type": "code",
   "execution_count": 197,
   "id": "e27f9aca",
   "metadata": {},
   "outputs": [],
   "source": [
    "def mse(b:float, sp1:list, sp2:list)->float:\n",
    "    '''ФУНКЦИЯ ПОТЕРЬ.\\\n",
    "       Принимает на вход коэффициент b, списки параметров и значений;\\\n",
    "        возвращает значение функции потерь.'''\n",
    "    return sum([(sp2[i] - b * sp1[i]) ** 2 for i in range(len(sp1))]) / len(sp1)"
   ]
  },
  {
   "cell_type": "code",
   "execution_count": 198,
   "id": "8a1a3a41",
   "metadata": {},
   "outputs": [
    {
     "name": "stdout",
     "output_type": "stream",
     "text": [
      "Достигнут min функции потерь при b = 5.8898204 c 7 знаками после запятой;        \n",
      " количество итераций - 18898204.\n"
     ]
    }
   ],
   "source": [
    "it = 0            # Количество итераций\n",
    "d = 7             # Количество знаков после запятой\n",
    "al = 1 / 10 ** d  # Шаг одной итерации\n",
    "b = 4             # Начальное значение искомого b\n",
    "while (b < 15):\n",
    "    mse_n = mse(b, zp, ks)\n",
    "    mse_k = mse(b + al, zp, ks)\n",
    "    if mse_k > mse_n:\n",
    "        print(f'Достигнут min функции потерь при b ={b: 0.{d}f} c {d} знаками после запятой;\\\n",
    "        \\n количество итераций - {it}.')\n",
    "        break\n",
    "    else:\n",
    "        b += al \n",
    "        it += 1        "
   ]
  },
  {
   "cell_type": "markdown",
   "id": "6e546dca",
   "metadata": {},
   "source": [
    "<font size=\"2px\">Задача решена, но это потребовало большого количества итераций и затрат времени.<br>\n",
    "<font size=\"3px\">Воспользуемся методом градиентного спуска.<br>"
   ]
  },
  {
   "cell_type": "code",
   "execution_count": 199,
   "id": "5c58f0f0",
   "metadata": {},
   "outputs": [
    {
     "data": {
      "text/latex": [
       "$\\displaystyle \\frac{\\left(b_{0} zp - ks\\right)^{2}}{n}$"
      ],
      "text/plain": [
       "(b0*zp - ks)**2/n"
      ]
     },
     "execution_count": 199,
     "metadata": {},
     "output_type": "execute_result"
    }
   ],
   "source": [
    "from sympy import symbols, diff\n",
    "\n",
    "bb, bi, kk, zz, nn = symbols('b0, b1, ks, zp, n')\n",
    "mse0 = (bb*zz - kk) ** 2 / nn\n",
    "mse0"
   ]
  },
  {
   "cell_type": "markdown",
   "id": "aad6c3fd",
   "metadata": {},
   "source": [
    "<font size=\"2px\">Найдём первую производную фукции потерь по $\\beta_0$."
   ]
  },
  {
   "cell_type": "code",
   "execution_count": 200,
   "id": "2c56d298",
   "metadata": {},
   "outputs": [
    {
     "data": {
      "text/latex": [
       "$\\displaystyle \\frac{2 zp \\left(b_{0} zp - ks\\right)}{n}$"
      ],
      "text/plain": [
       "2*zp*(b0*zp - ks)/n"
      ]
     },
     "execution_count": 200,
     "metadata": {},
     "output_type": "execute_result"
    }
   ],
   "source": [
    "diff(mse0, bb)"
   ]
  },
  {
   "cell_type": "code",
   "execution_count": 201,
   "id": "1fe5119a",
   "metadata": {},
   "outputs": [],
   "source": [
    "def d_mse(b:float, sp1:list, sp2:list)->float:\n",
    "    '''ПРОИЗВОДНАЯ ФУНКЦИИ ПОТЕРЬ.\\\n",
    "       Принимает на вход коэффициент b, списки параметров и значений;\\\n",
    "        возвращает значение производной функции потерь.'''\n",
    "    return 2 * sum([(b * sp1[i] - sp2[i]) * sp1[i] for i in range(len(sp1))]) / len(sp1)"
   ]
  },
  {
   "cell_type": "code",
   "execution_count": 202,
   "id": "c0f96e00",
   "metadata": {},
   "outputs": [
    {
     "name": "stdout",
     "output_type": "stream",
     "text": [
      "Кол.итераций  500;   B-текущее  5.41417;   Произв.фукции потерь  -13105.59253\n",
      "Кол.итераций  1000;   B-текущее  5.77011;   Произв.фукции потерь  -3298.53229\n",
      "Кол.итераций  1500;   B-текущее  5.85969;   Произв.фукции потерь  -830.20399\n",
      "Кол.итераций  2000;   B-текущее  5.88224;   Произв.фукции потерь  -208.95314\n",
      "Кол.итераций  2500;   B-текущее  5.88791;   Произв.фукции потерь  -52.59119\n",
      "Кол.итераций  3000;   B-текущее  5.88934;   Произв.фукции потерь  -13.23662\n",
      "Кол.итераций  3500;   B-текущее  5.88970;   Произв.фукции потерь  -3.33151\n",
      "Кол.итераций  4000;   B-текущее  5.88979;   Произв.фукции потерь  -0.83850\n",
      "Кол.итераций  4500;   B-текущее  5.88981;   Произв.фукции потерь  -0.21104\n",
      "Кол.итераций  5000;   B-текущее  5.88982;   Произв.фукции потерь  -0.05312\n",
      "Достигнут min функции потерь при b = 5.8898199 c 7 знаками после запятой;        \n",
      " количество итераций - 5465.\n"
     ]
    }
   ],
   "source": [
    "it = 0            # Количество итераций\n",
    "d = 7             # Количество знаков после запятой\n",
    "al = 1 / 10 ** d  # Коэффициент одной итерации\n",
    "b_n = 4           # Начальное значение искомого b\n",
    "while (b_n < 15):\n",
    "    b_k = b_n - al * d_mse(b_n, zp, ks)\n",
    "    mse_n = mse(b_n, zp, ks)\n",
    "    mse_k = mse(b_k, zp, ks)\n",
    "    \n",
    "    if mse_k > mse_n:\n",
    "        print(f'Достигнут min функции потерь при b ={b_k: 0.{d}f} c {d} знаками после запятой;\\\n",
    "        \\n количество итераций - {it}.')\n",
    "        break\n",
    "    else:\n",
    "        b_n = b_k \n",
    "        it += 1 \n",
    "        if it % 500 == 0: print(f'Кол.итераций  {it};   B-текущее  {b_n:.5f};\\\n",
    "   Произв.фукции потерь  {d_mse(b_n, zp, ks):.5f}') "
   ]
  },
  {
   "cell_type": "markdown",
   "id": "ad110136",
   "metadata": {},
   "source": [
    "<font size=\"2px\">Метод градиентного спуска существенно эффективней. Количество итераций снижено на **$300$** порядков."
   ]
  },
  {
   "cell_type": "markdown",
   "id": "691c47b3",
   "metadata": {},
   "source": [
    "<div class=\"alert alert-block alert-success\"><em>\n",
    "<font size=\"3px\"><b>Ответ:</b><br> Коэффициент линейной регрессии, рассчитанный методом градиентного спуска (без intercept) : $\\displaystyle \\beta = 5,8898 $\n",
    "</em></div>\n",
    "\n",
    "***"
   ]
  },
  {
   "cell_type": "markdown",
   "id": "1162045d",
   "metadata": {},
   "source": [
    "<div class=\"alert alert-block alert-info\"><em>\n",
    "<b> ЗАДАЧА № 3. </b><br> Произвести вычисления как в пункте 2, но с вычислением intercept.<br>\n",
    "Учесть, что изменение коэффициентов должно производиться на каждом шаге одновременно<br>\n",
    "(то есть изменение одного коэффициента не должно влиять на изменение другого во время одной итерации).\n",
    "</em></code>"
   ]
  },
  {
   "cell_type": "markdown",
   "id": "0031edde",
   "metadata": {},
   "source": [
    "<font size=\"2px\">Необходимо найти линейную функцию вида :\n",
    "    <font size=\"3px\">$\\widehat{y}=\\beta_0 +\\beta_1 x$<br>\n",
    "<font size=\"2px\">Мерой измерения ошибок примем среднеквадратичное отклонение данных в задаче от предсказанных прямой :<font size=\"3px\"> $mse = \\frac{1}{\\displaystyle n}\\displaystyle \\sum_{i=1}^n(ks - \\widehat{y})^2$ <br>\n",
    "<font size=\"2px\">Необходимо найти такие <font size=\"3px\">$\\beta_0 , \\beta_1$<font size=\"2px\">,\n",
    "когда <font size=\"3px\">$mse$<font size=\"2px\"> минимально.\n",
    "<br><br>\n",
    "Для определения начальных значений построим графики :    "
   ]
  },
  {
   "cell_type": "code",
   "execution_count": 203,
   "id": "c2925f12",
   "metadata": {
    "scrolled": true
   },
   "outputs": [
    {
     "data": {
      "image/png": "[encoded data removed]",
      "text/plain": [
       "<Figure size 864x360 with 1 Axes>"
      ]
     },
     "metadata": {
      "needs_background": "light"
     },
     "output_type": "display_data"
    }
   ],
   "source": [
    "import matplotlib.pyplot as plt\n",
    "x = np.arange(-5, 205, 0.01)\n",
    "y_n = 200 + 2 * x\n",
    "y_v = 600 + 4 * x\n",
    "y_i = 400 + 3 * x\n",
    "\n",
    "with plt.style.context('bmh'):\n",
    "    plt.figure(figsize=(12, 5))\n",
    "    plt.xlabel('Заработная плата', c = 'k', alpha=0.6)\n",
    "    plt.ylabel('Кредитный скоринг', c = 'k', alpha=0.6)\n",
    "    plt.plot(x, y_n, c = 'k', alpha=0.5,  ls = '--', label=\"$ks = 200 + 2 zp $\")\n",
    "    plt.plot(x, y_v, c = 'k', alpha=0.5, ls = '--', label=\"$ks = 600 + 4 zp $\")\n",
    "    plt.fill_between (x, y_n, y_v, color='b', alpha= .05)\n",
    "    plt.plot(x, y_i, c = 'g', alpha=1, ls = '--', label=\"$искомая$ $прямая(примерно)$\")\n",
    "    plt.scatter(zp,ks, c = 'm', label=\"$данные$\")\n",
    "    plt.legend(fontsize='large', facecolor='w', shadow=True)\n",
    "\n",
    "plt.show()"
   ]
  },
  {
   "cell_type": "markdown",
   "id": "10cc0f37",
   "metadata": {},
   "source": [
    "<font size=\"2px\">Из графика понятно, что искомая прямая лежит в области ограниченной двумя прямыми сверху и снизу, а значит $200 < \\beta_0 < 600$ , $2 < \\beta_1 < 4$."
   ]
  },
  {
   "cell_type": "code",
   "execution_count": 205,
   "id": "f74f99b1",
   "metadata": {},
   "outputs": [
    {
     "data": {
      "text/latex": [
       "$\\displaystyle \\frac{\\left(- b_{0} - b_{1} zp + ks\\right)^{2}}{n}$"
      ],
      "text/plain": [
       "(-b0 - b1*zp + ks)**2/n"
      ]
     },
     "execution_count": 205,
     "metadata": {},
     "output_type": "execute_result"
    }
   ],
   "source": [
    "mse1 = (kk - bb - bi * zz) ** 2 / nn\n",
    "mse1"
   ]
  },
  {
   "cell_type": "code",
   "execution_count": 206,
   "id": "3ce7bb9a",
   "metadata": {},
   "outputs": [],
   "source": [
    "def mse_01(b0:float, b1:float, sp1:list, sp2:list)->float:\n",
    "    '''ФУНКЦИЯ ПОТЕРЬ.\\\n",
    "       Принимает на вход коэффициенты b0 и b1, списки параметров и значений;\\\n",
    "        возвращает значение функции потерь.'''\n",
    "    return sum([(sp2[i] - b0 - b1 * sp1[i]) ** 2 for i in range(len(sp1))]) / len(sp1)"
   ]
  },
  {
   "cell_type": "markdown",
   "id": "b64fa0a4",
   "metadata": {},
   "source": [
    "<font size=\"2px\">Первая производная фукции потерь по $\\beta_0$."
   ]
  },
  {
   "cell_type": "code",
   "execution_count": 207,
   "id": "747846e3",
   "metadata": {},
   "outputs": [
    {
     "data": {
      "text/latex": [
       "$\\displaystyle \\frac{2 b_{0} + 2 b_{1} zp - 2 ks}{n}$"
      ],
      "text/plain": [
       "(2*b0 + 2*b1*zp - 2*ks)/n"
      ]
     },
     "execution_count": 207,
     "metadata": {},
     "output_type": "execute_result"
    }
   ],
   "source": [
    "diff(mse1, bb)"
   ]
  },
  {
   "cell_type": "markdown",
   "id": "74156d9d",
   "metadata": {},
   "source": [
    "<font size=\"2px\">Первая производная фукции потерь по $\\beta_1$."
   ]
  },
  {
   "cell_type": "code",
   "execution_count": 208,
   "id": "641551d3",
   "metadata": {},
   "outputs": [
    {
     "data": {
      "text/latex": [
       "$\\displaystyle - \\frac{2 zp \\left(- b_{0} - b_{1} zp + ks\\right)}{n}$"
      ],
      "text/plain": [
       "-2*zp*(-b0 - b1*zp + ks)/n"
      ]
     },
     "execution_count": 208,
     "metadata": {},
     "output_type": "execute_result"
    }
   ],
   "source": [
    "diff(mse1, bi)"
   ]
  },
  {
   "cell_type": "code",
   "execution_count": 209,
   "id": "543cfb65",
   "metadata": {},
   "outputs": [],
   "source": [
    "def d_mse0(b0:float, b1:float, sp1:list, sp2:list)->float:\n",
    "    '''ПРОИЗВОДНАЯ ФУНКЦИИ ПОТЕРЬ ПО В0.\\\n",
    "       Принимает на вход коэффициенты b0 и b1, списки параметров и значений;\\\n",
    "        возвращает значение производной функции потерь по b0.'''\n",
    "    return 2 * sum([b0 + b1 * sp1[i] - sp2[i] for i in range(len(sp1))]) / len(sp1)"
   ]
  },
  {
   "cell_type": "code",
   "execution_count": 210,
   "id": "793daef9",
   "metadata": {},
   "outputs": [],
   "source": [
    "def d_mse1(b0:float, b1:float, sp1:list, sp2:list)->float:\n",
    "    '''ПРОИЗВОДНАЯ ФУНКЦИИ ПОТЕРЬ ПО В1.\\\n",
    "       Принимает на вход коэффициенты b0 и b1, списки параметров и значений;\\\n",
    "        возвращает значение производной функции потерь по b1.'''\n",
    "    return 2 * sum([(b0 + b1 * sp1[i] - sp2[i]) * sp1[i] for i in range(len(sp1))]) / len(sp1)"
   ]
  },
  {
   "cell_type": "code",
   "execution_count": 217,
   "id": "9b22dc3f",
   "metadata": {},
   "outputs": [
    {
     "name": "stdout",
     "output_type": "stream",
     "text": [
      "Кол.итераций=       0; B0= 200.0000000; B1= 2.00000000; mse= 33082.4879311\n",
      "Кол.итераций=  100000; B0= 424.8547051; B1= 2.76276215; mse= 6565.1189681\n",
      "Кол.итераций=  200000; B0= 442.6481733; B1= 2.63179435; mse= 6471.0073420\n",
      "Кол.итераций=  300000; B0= 444.0563386; B1= 2.62142963; mse= 6470.4179160\n",
      "Кол.итераций=  400000; B0= 444.1677800; B1= 2.62060938; mse= 6470.4142244\n",
      "Кол.итераций=  500000; B0= 444.1765994; B1= 2.62054446; mse= 6470.4142013\n",
      "Кол.итераций=  600000; B0= 444.1772973; B1= 2.62053932; mse= 6470.4142012\n",
      "Кол.итераций=  700000; B0= 444.1773526; B1= 2.62053892; mse= 6470.4142012\n",
      "Кол.итераций=  800000; B0= 444.1773569; B1= 2.62053889; mse= 6470.4142012\n",
      "Кол.итераций=  900000; B0= 444.1773573; B1= 2.62053888; mse= 6470.4142012\n",
      "Кол.итераций= 1000000; B0= 444.1773573; B1= 2.62053888; mse= 6470.4142012\n"
     ]
    }
   ],
   "source": [
    "it = 0            # Количество итераций\n",
    "al = 5 / 10 ** 5  # Коэффициент одной итерации\n",
    "b0_n = 200        # Начальное значение искомого b0\n",
    "b1_n = 2          # Начальное значение искомого b1\n",
    "\n",
    "while (it < 1000001):\n",
    "    b0_k = b0_n - al * d_mse0(b0_n, b1_n, zp, ks)\n",
    "    b1_k = b1_n -  al * d_mse1(b0_n, b1_n, zp, ks)\n",
    "    mse01_k = mse_01(b0_k, b1_k, zp, ks)\n",
    "    if it % 100000 == 0:\n",
    "        print(f'Кол.итераций= {it:7.0f}; B0= {b0_n:.7f};\\\n",
    " B1= {b1_n:.8f}; mse= {mse01_k:0.7f}') \n",
    "        \n",
    "    b0_n = b0_k \n",
    "    b1_n = b1_k \n",
    "    it += 1 "
   ]
  },
  {
   "cell_type": "markdown",
   "id": "78c78eb0",
   "metadata": {},
   "source": [
    "<div class=\"alert alert-block alert-success\"><em>\n",
    "<b>Ответ:</b><br> Уравнение линейной регрессии ( с интерсептом) имеет вид :<font size=\"3px\">\n",
    " $\\displaystyle y = 444,177 + 2,621 x $ <br>\n",
    "</em></div>\n",
    "\n",
    "***"
   ]
  }
 ],
 "metadata": {
  "kernelspec": {
   "display_name": "Python 3",
   "language": "python",
   "name": "python3"
  },
  "language_info": {
   "codemirror_mode": {
    "name": "ipython",
    "version": 3
   },
   "file_extension": ".py",
   "mimetype": "text/x-python",
   "name": "python",
   "nbconvert_exporter": "python",
   "pygments_lexer": "ipython3",
   "version": "3.8.8"
  }
 },
 "nbformat": 4,
 "nbformat_minor": 5
}
