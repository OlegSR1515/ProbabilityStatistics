{
 "cells": [
  {
   "cell_type": "markdown",
   "id": "52ae01c2",
   "metadata": {},
   "source": [
    "<!--<div align=\"center\">Семинар № 5-->\n",
    "\n",
    "<div align=\"center\"><font color=#4682B4 size=5 face=\n",
    "                          \"segoe print\"><em><strong>Семинар № 8</strong></em></font></div>"
   ]
  },
  {
   "cell_type": "markdown",
   "id": "becb1407",
   "metadata": {},
   "source": [
    "<div class=\"alert alert-block alert-info\"><em>\n",
    "<b>ЗАДАЧА № 1.</b><br> Даны значения величины заработной платы заемщиков банка (zp) и значения их поведенческого кредитного скоринга (ks):<br>\n",
    "zp = [35, 45, 190, 200, 40, 70, 54, 150, 120, 110],<br>\n",
    "ks = [401, 574, 874, 919, 459, 739, 653, 902, 746, 832].<br>\n",
    "Найдите ковариацию этих двух величин с помощью элементарных действий,<br>\n",
    "а затем с помощью функции cov из numpy.\n",
    "Полученные значения должны быть равны.<br>\n",
    "Найдите коэффициент корреляции Пирсона с помощью ковариации и среднеквадратичных отклонений двух признаков,\n",
    "а затем с использованием функций из библиотек numpy и pandas.\n",
    "</em></div>"
   ]
  },
  {
   "cell_type": "markdown",
   "id": "001b3440",
   "metadata": {},
   "source": [
    "<font size=\"2px\">Для решения этой и следующих задач импортируем необходимые **Python-библиотеки:**"
   ]
  },
  {
   "cell_type": "code",
   "execution_count": 89,
   "id": "d4a56c3b",
   "metadata": {},
   "outputs": [],
   "source": [
    "import numpy as np\n",
    "import pandas as pd\n",
    "import scipy.stats as st\n",
    "import matplotlib.pyplot as plt"
   ]
  },
  {
   "cell_type": "markdown",
   "id": "765cceac",
   "metadata": {},
   "source": [
    "<font size=\"2px\">Для начала построим график."
   ]
  },
  {
   "cell_type": "code",
   "execution_count": 90,
   "id": "d3f26c60",
   "metadata": {},
   "outputs": [
    {
     "data": {
      "image/png": "[encoded data removed]",
      "text/plain": [
       "<Figure size 432x288 with 1 Axes>"
      ]
     },
     "metadata": {
      "needs_background": "light"
     },
     "output_type": "display_data"
    }
   ],
   "source": [
    "zp = [35, 45, 190, 200, 40, 70, 54, 150, 120, 110]\n",
    "ks = [401, 574, 874, 919, 459, 739, 653, 902, 746, 832]\n",
    "\n",
    "plt.style.use('bmh')\n",
    "plt.xlabel('Заработная плата', c = 'g')\n",
    "plt.ylabel('Кредитный скоринг', c = 'b')\n",
    "plt.scatter(zp,ks, c = 'm')\n",
    "plt.show()"
   ]
  },
  {
   "cell_type": "markdown",
   "id": "e75d24a8",
   "metadata": {},
   "source": [
    "<font size=\"2px\">Из графика можно предположить, что данные имеют прямую статистическую взаимосвязь.<br>\n",
    "Проверим это.<br><br>\n",
    "Структурируем данные для работы в библиотеках _**Numpy**_ и _**Pandas :**_\n"
   ]
  },
  {
   "cell_type": "code",
   "execution_count": 91,
   "id": "344649cb",
   "metadata": {},
   "outputs": [
    {
     "data": {
      "text/plain": [
       "(array([ 35,  45, 190, 200,  40,  70,  54, 150, 120, 110]),\n",
       " array([401, 574, 874, 919, 459, 739, 653, 902, 746, 832]))"
      ]
     },
     "execution_count": 91,
     "metadata": {},
     "output_type": "execute_result"
    }
   ],
   "source": [
    "zp_np = np.array(zp)\n",
    "ks_np = np.array(ks)\n",
    "zp_np, ks_np"
   ]
  },
  {
   "cell_type": "code",
   "execution_count": 92,
   "id": "18823251",
   "metadata": {},
   "outputs": [
    {
     "data": {
      "text/html": [
       "<div>\n",
       "<style scoped>\n",
       "    .dataframe tbody tr th:only-of-type {\n",
       "        vertical-align: middle;\n",
       "    }\n",
       "\n",
       "    .dataframe tbody tr th {\n",
       "        vertical-align: top;\n",
       "    }\n",
       "\n",
       "    .dataframe thead th {\n",
       "        text-align: right;\n",
       "    }\n",
       "</style>\n",
       "<table border=\"1\" class=\"dataframe\">\n",
       "  <thead>\n",
       "    <tr style=\"text-align: right;\">\n",
       "      <th></th>\n",
       "      <th>ZP</th>\n",
       "      <th>KS</th>\n",
       "    </tr>\n",
       "  </thead>\n",
       "  <tbody>\n",
       "    <tr>\n",
       "      <th>0</th>\n",
       "      <td>35</td>\n",
       "      <td>401</td>\n",
       "    </tr>\n",
       "    <tr>\n",
       "      <th>1</th>\n",
       "      <td>45</td>\n",
       "      <td>574</td>\n",
       "    </tr>\n",
       "    <tr>\n",
       "      <th>2</th>\n",
       "      <td>190</td>\n",
       "      <td>874</td>\n",
       "    </tr>\n",
       "    <tr>\n",
       "      <th>3</th>\n",
       "      <td>200</td>\n",
       "      <td>919</td>\n",
       "    </tr>\n",
       "    <tr>\n",
       "      <th>4</th>\n",
       "      <td>40</td>\n",
       "      <td>459</td>\n",
       "    </tr>\n",
       "    <tr>\n",
       "      <th>5</th>\n",
       "      <td>70</td>\n",
       "      <td>739</td>\n",
       "    </tr>\n",
       "    <tr>\n",
       "      <th>6</th>\n",
       "      <td>54</td>\n",
       "      <td>653</td>\n",
       "    </tr>\n",
       "    <tr>\n",
       "      <th>7</th>\n",
       "      <td>150</td>\n",
       "      <td>902</td>\n",
       "    </tr>\n",
       "    <tr>\n",
       "      <th>8</th>\n",
       "      <td>120</td>\n",
       "      <td>746</td>\n",
       "    </tr>\n",
       "    <tr>\n",
       "      <th>9</th>\n",
       "      <td>110</td>\n",
       "      <td>832</td>\n",
       "    </tr>\n",
       "  </tbody>\n",
       "</table>\n",
       "</div>"
      ],
      "text/plain": [
       "    ZP   KS\n",
       "0   35  401\n",
       "1   45  574\n",
       "2  190  874\n",
       "3  200  919\n",
       "4   40  459\n",
       "5   70  739\n",
       "6   54  653\n",
       "7  150  902\n",
       "8  120  746\n",
       "9  110  832"
      ]
     },
     "execution_count": 92,
     "metadata": {},
     "output_type": "execute_result"
    }
   ],
   "source": [
    "df_pd = pd.DataFrame({\"ZP\": zp, \"KS\": ks})\n",
    "df_pd"
   ]
  },
  {
   "cell_type": "markdown",
   "id": "6a38b7da",
   "metadata": {},
   "source": [
    "<font size=\"2px\">Найдём ковариацию сначала по формуле : $cov_{xy}=M(X*Y)−M (X)∗M(Y)$,<br> \n",
    " где $М$ – математическое ожидание,<br>\n",
    "а затем с помощью библиотек _**Numpy**_ и _**Pandas**_ и сравним результаты.\n"
   ]
  },
  {
   "cell_type": "code",
   "execution_count": 93,
   "id": "bf101947",
   "metadata": {},
   "outputs": [],
   "source": [
    "aver_pr = sum([zp[i] * ks[i] for i in range(len(zp))]) / len(zp)\n",
    "aver_zp = sum(zp) / len(zp)\n",
    "aver_ks = sum(ks) / len(ks)\n",
    "cov_0 = aver_pr - aver_zp * aver_ks"
   ]
  },
  {
   "cell_type": "code",
   "execution_count": 94,
   "id": "94a40274",
   "metadata": {},
   "outputs": [
    {
     "data": {
      "text/plain": [
       "(9157.839999999997, 9157.840000000002, 9157.840000000002)"
      ]
     },
     "execution_count": 94,
     "metadata": {},
     "output_type": "execute_result"
    }
   ],
   "source": [
    "cov_0, np.cov(zp, ks, ddof = 0)[0,1], df_pd['ZP'].cov(df_pd['KS'], ddof = 0)"
   ]
  },
  {
   "cell_type": "markdown",
   "id": "95ec48a4",
   "metadata": {},
   "source": [
    "<div class=\"alert alert-block alert-success\"><em>\n",
    "Значения <b>равны.</b></em></div>"
   ]
  },
  {
   "cell_type": "markdown",
   "id": "34e8e3b9",
   "metadata": {},
   "source": [
    "<font size=\"2px\">Найдём коэффициент корреляции Пирсона сначала по формуле,<br>\n",
    "а затем с помощью библиотек _**Numpy**_ и _**Pandas**_ и сравним результаты."
   ]
  },
  {
   "cell_type": "code",
   "execution_count": 95,
   "id": "900fefb7",
   "metadata": {},
   "outputs": [
    {
     "data": {
      "text/plain": [
       "(0.8874900920739153, 0.8874900920739163, 0.8874900920739163)"
      ]
     },
     "execution_count": 95,
     "metadata": {},
     "output_type": "execute_result"
    }
   ],
   "source": [
    "std_zp = (sum([el1**2 - aver_zp**2 for el1 in zp]) / len(zp)) ** 0.5\n",
    "std_ks = (sum([el2**2 - aver_ks**2 for el2 in ks]) / len(ks)) ** 0.5\n",
    "\n",
    "corr_0 = cov_0 / (std_zp * std_ks)\n",
    "corr_0, np.corrcoef(zp, ks)[0,1], df_pd['ZP'].corr(df_pd['KS'])"
   ]
  },
  {
   "cell_type": "markdown",
   "id": "ba901483",
   "metadata": {},
   "source": [
    "<div class=\"alert alert-block alert-success\"><em>\n",
    "Значения <b>равны.</b></em></div>"
   ]
  },
  {
   "cell_type": "markdown",
   "id": "99c6389e",
   "metadata": {},
   "source": [
    "<div class=\"alert alert-block alert-success\"><em>\n",
    "<b>Ответ:</b><br> коэффициент корреляции Пирсона равен : $0.88749$.\n",
    "</em></div>\n",
    "\n",
    "***"
   ]
  },
  {
   "cell_type": "markdown",
   "id": "51bf16db",
   "metadata": {},
   "source": [
    "<div class=\"alert alert-block alert-info\"><em>\n",
    "<b> ЗАДАЧА № 2. </b><br> Измерены значения IQ выборки студентов,\n",
    "обучающихся в местных технических вузах:<br>\n",
    "131, 125, 115, 122, 131, 115, 107, 99, 125, 111.<br>\n",
    "Известно, что в генеральной совокупности IQ распределен нормально.<br>\n",
    "Найдите доверительный интервал для математического ожидания с надежностью 0.95.\n",
    "</em></code>\n",
    "</em></div>"
   ]
  },
  {
   "cell_type": "markdown",
   "id": "f2c92753",
   "metadata": {},
   "source": [
    "<font size=\"2px\">Поскольку генеральная совокупность распределена <b>нормально</b>\n",
    "и нам <b>неизвестна</b> её дисперсия,<br>\n",
    "то доверительный интервал найдём по формуле : \n",
    "<font size=\"4px\">$B_{L/R} = \\bar X \\pm t_{tab}\\frac{\\sigma_{несм}}{\\sqrt{n}}$</b><font size=\"2px\">, где<br>\n",
    "$\\bar X $ - среднее по выборке;<br>\n",
    "$t_{tab}$ - табличное значение $t$-критерия Стьюдента для двусторонней оценки $\\alpha = (1-95\\%)\\ /\\ 2=0,025$;<br>\n",
    "$\\sigma $ - несмещённое среднее квадратичное выборки;<br>\n",
    "$n = 10$ - объем выборки.\n",
    "<br><br>\n",
    "Результат проверим с помощью встроенной функции из <b>Python</b>-библиотеки _**Scipy.stats**_. "
   ]
  },
  {
   "cell_type": "code",
   "execution_count": 96,
   "id": "b6b04d5c",
   "metadata": {},
   "outputs": [],
   "source": [
    "iq = np.array([131, 125, 115, 122, 131, 115, 107, 99, 125, 111])\n",
    "iq_mean = np.mean(iq)\n",
    "iq_std = np.std(iq, ddof = 1)"
   ]
  },
  {
   "cell_type": "markdown",
   "id": "e1de5143",
   "metadata": {},
   "source": [
    "<font size=\"2px\">$iq\\_mean$ - среднее по выборке;<br>\n",
    "$iq\\_std $ - несмещённое среднее квадратичное выборки.<br>\n",
    "Найдём табличное значение $t$ - критерия :"
   ]
  },
  {
   "cell_type": "code",
   "execution_count": 97,
   "id": "f7600990",
   "metadata": {},
   "outputs": [],
   "source": [
    "t_tab = st.t.ppf(0.975, 10-1)"
   ]
  },
  {
   "cell_type": "code",
   "execution_count": 98,
   "id": "3abb2bcd",
   "metadata": {},
   "outputs": [
    {
     "data": {
      "text/plain": [
       "(110.55608365158724, 125.64391634841274)"
      ]
     },
     "execution_count": 98,
     "metadata": {},
     "output_type": "execute_result"
    }
   ],
   "source": [
    "bor_left = iq_mean - t_tab * iq_std/ 10 ** 0.5\n",
    "bor_right = iq_mean + t_tab * iq_std/ 10 ** 0.5\n",
    "bor_left, bor_right"
   ]
  },
  {
   "cell_type": "code",
   "execution_count": 99,
   "id": "9fc92a02",
   "metadata": {},
   "outputs": [
    {
     "data": {
      "text/plain": [
       "(110.55608365158724, 125.64391634841274)"
      ]
     },
     "execution_count": 99,
     "metadata": {},
     "output_type": "execute_result"
    }
   ],
   "source": [
    "st.t.interval(alpha = 0.95, df = 10 - 1, loc = iq_mean, scale = iq_std / 10 ** 0.5) "
   ]
  },
  {
   "cell_type": "markdown",
   "id": "caaa4f8a",
   "metadata": {},
   "source": [
    "<div class=\"alert alert-block alert-success\"><em>\n",
    "Значения <b>равны.</b></em></div>"
   ]
  },
  {
   "cell_type": "markdown",
   "id": "c0f571ee",
   "metadata": {},
   "source": [
    "<div class=\"alert alert-block alert-success\"><em>\n",
    "<b>Ответ:</b><br>$[110,6;125,6]$ - доверительный интервал для математического ожидания\n",
    "с надежностью 0.95\n",
    "</em></div>\n",
    "\n",
    "***"
   ]
  },
  {
   "cell_type": "markdown",
   "id": "5354099a",
   "metadata": {},
   "source": [
    "<div class=\"alert alert-block alert-info\"><em>\n",
    "<b> ЗАДАЧА № 3. </b><br> Известно, что рост футболистов в сборной распределен нормально<br> с дисперсией\n",
    "генеральной совокупности, равной 25 кв.см.<br>\n",
    "Объем выборки равен 27, среднее выборочное составляет 174.2.<br>\n",
    "Найдите доверительный интервал для математического ожидания с надежностью 0.95\n",
    "</em></code>"
   ]
  },
  {
   "cell_type": "markdown",
   "id": "b83aa974",
   "metadata": {},
   "source": [
    "<font size=\"2px\">Поскольку генеральная совокупность распределена **нормально**\n",
    "и нам **известна** её **дисперсия**,<br>\n",
    "то доверительный интервал найдём по формуле : \n",
    "<font size=\"4px\">$B_{L/R} = \\bar X \\pm Z_{tab}\\frac{\\sigma}{\\sqrt{n}}$</b>,<font size=\"2px\"> где<br>\n",
    "$\\bar X = 174,2 см$ - среднее по выборке;<br>\n",
    "$Z_{tab}$ - табличное значение $Z$-критерия для двусторонней оценки $\\alpha = (1-95\\%)\\ /\\ 2=0,025$;<br>\n",
    "$v = 25 см^2$ - дисперсия генеральной совокупности;<br>\n",
    "$n = 27$ - объем выборки."
   ]
  },
  {
   "cell_type": "code",
   "execution_count": 102,
   "id": "71167453",
   "metadata": {},
   "outputs": [],
   "source": [
    "height_mean = 174.2\n",
    "v = 25\n",
    "n = 27"
   ]
  },
  {
   "cell_type": "markdown",
   "id": "acd264a7",
   "metadata": {},
   "source": [
    "<font size=\"2px\">Найдём табличное значение $Z$ - критерия :"
   ]
  },
  {
   "cell_type": "code",
   "execution_count": 103,
   "id": "c8fd3cfa",
   "metadata": {},
   "outputs": [],
   "source": [
    "z_tab = st.norm.ppf((1 + 0.95) / 2)"
   ]
  },
  {
   "cell_type": "code",
   "execution_count": 104,
   "id": "329fc9e0",
   "metadata": {},
   "outputs": [
    {
     "data": {
      "text/plain": [
       "(172.3140237765397, 176.08597622346028)"
      ]
     },
     "execution_count": 104,
     "metadata": {},
     "output_type": "execute_result"
    }
   ],
   "source": [
    "b_left = height_mean - z_tab * (v / n) ** 0.5\n",
    "b_right = height_mean + z_tab * (v / n) ** 0.5\n",
    "b_left, b_right"
   ]
  },
  {
   "cell_type": "markdown",
   "id": "1ce7a971",
   "metadata": {},
   "source": [
    "<font size=\"2px\">Результат проверим с помощью встроенной функции из <b>Python</b>-библиотеки _**Scipy.stats**_."
   ]
  },
  {
   "cell_type": "code",
   "execution_count": 105,
   "id": "36c62707",
   "metadata": {},
   "outputs": [
    {
     "data": {
      "text/plain": [
       "(172.3140237765397, 176.08597622346028)"
      ]
     },
     "execution_count": 105,
     "metadata": {},
     "output_type": "execute_result"
    }
   ],
   "source": [
    "st.norm.interval(alpha = 0.95, loc = height_mean, scale =  (v / n) ** 0.5)"
   ]
  },
  {
   "cell_type": "markdown",
   "id": "f32e4213",
   "metadata": {},
   "source": [
    "<div class=\"alert alert-block alert-success\"><em>\n",
    "Значения <b>равны.</b></em></div>"
   ]
  },
  {
   "cell_type": "markdown",
   "id": "dafedfc0",
   "metadata": {},
   "source": [
    "<div class=\"alert alert-block alert-success\"><em>\n",
    "<b>Ответ:</b><br>$[172,3;176,1]$ - доверительный интервал для математического ожидания\n",
    "с надежностью 0.95\n",
    "</em></div>"
   ]
  }
 ],
 "metadata": {
  "kernelspec": {
   "display_name": "Python 3",
   "language": "python",
   "name": "python3"
  },
  "language_info": {
   "codemirror_mode": {
    "name": "ipython",
    "version": 3
   },
   "file_extension": ".py",
   "mimetype": "text/x-python",
   "name": "python",
   "nbconvert_exporter": "python",
   "pygments_lexer": "ipython3",
   "version": "3.8.8"
  }
 },
 "nbformat": 4,
 "nbformat_minor": 5
}
