{
 "cells": [
  {
   "cell_type": "markdown",
   "id": "3d328140",
   "metadata": {},
   "source": [
    "<!--<div align=\"center\">Семинар № 5-->\n",
    "<div align=\"center\"><font color=#4682B4 size=5 face=\n",
    "                          \"segoe print\"><em><strong>Семинар № 7</strong></em></font></div>"
   ]
  },
  {
   "cell_type": "markdown",
   "id": "fb34bb10",
   "metadata": {},
   "source": [
    "<div class=\"alert alert-block alert-info\"><em>\n",
    "<b>ЗАДАЧА № 1.</b> <br> Даны две независимые выборки. Не соблюдается условие нормальности<br>\n",
    "x1 380,420, 290<br>\n",
    "y1 140,360,200,900<br>\n",
    "Сделайте вывод по результатам, полученным с помощью функции;<br>\n",
    "задачу решить с помощью функции.</em></div>"
   ]
  },
  {
   "cell_type": "markdown",
   "id": "06072f86",
   "metadata": {},
   "source": [
    "<font size=\"2px\">На первый взгляд выборки в условии задачи **различны**,<br>\n",
    "однако, проведём расчёты и выводы сделаем по их результатам.<br>\n",
    "\n",
    "Сначала, сформулируем **обычную** нулевую гипотезу, $H_0 :$<br>\n",
    "**Статистически значимых различий в выборках _НЕТ._**<br>\n",
    "Тогда - альтернативная гипотеза, $H_1 :$ **Выборки статистически различны.**<br>\n",
    "Уровень значимости примем $\\alpha = 0.05$.<br>    \n",
    "Условие нормальности **не соблюдается**, значит тест _**непараметрический**_.<br>\n",
    "Выборки **независимы** и их **две**, поэтому воспользуемся _**критерием Манна-Уитни**_.\n",
    "<br><br>  \n",
    "Для решения этой и следующих задач импортируем необходимые **Python-библиотеки:**"
   ]
  },
  {
   "cell_type": "code",
   "execution_count": 2,
   "id": "5408a004",
   "metadata": {},
   "outputs": [],
   "source": [
    "import numpy as np\n",
    "import scipy.stats as st\n",
    "import matplotlib.pyplot as plt"
   ]
  },
  {
   "cell_type": "code",
   "execution_count": 3,
   "id": "d3f26c60",
   "metadata": {},
   "outputs": [
    {
     "name": "stdout",
     "output_type": "stream",
     "text": [
      "P-Value = 0.298\n",
      "P-Value > al : Нулевая гипотеза ПРИНИМАЕТСЯ.\n"
     ]
    }
   ],
   "source": [
    "x_1 = np.array([380, 420, 290])\n",
    "y_1 = np.array([140, 360, 200, 900])\n",
    "al = 0.05\n",
    "\n",
    "rez_1 = st.mannwhitneyu(x_1, y_1)\n",
    "print(f'P-Value = {rez_1[1]:0.3f}')\n",
    "\n",
    "if rez_1[1] > al:\n",
    "    print('P-Value > al : Нулевая гипотеза ПРИНИМАЕТСЯ.')\n",
    "else:\n",
    "    print('P-Value < al : Нулевая гипотеза ОТВЕРГАЕТСЯ.')"
   ]
  },
  {
   "cell_type": "markdown",
   "id": "def93ba6",
   "metadata": {},
   "source": [
    "<div class=\"alert alert-block alert-success\"><em>\n",
    "<b>Ответ:</b><br> Нулевая гипотеза ПРИНИМАЕТСЯ на уровне доверия 95% :<br>\n",
    " <b>статистически значимых различий в выборках НЕТ.</b>\n",
    " </em></div>\n",
    "\n",
    "***"
   ]
  },
  {
   "cell_type": "markdown",
   "id": "323efe84",
   "metadata": {},
   "source": [
    "<div class=\"alert alert-block alert-info\"><em>\n",
    "<b> ЗАДАЧА № 2. </b><br> Исследовалось влияние препарата на уровень давления пациентов.\n",
    "Сначала измерялось давление до приема препарата, потом через 10 минут и через 30 минут.\n",
    "Есть ли статистически значимые различия?<br>\n",
    "1е измерение до приема препарата: 150, 160, 165, 145, 155<br>\n",
    "2е измерение через 10 минут: 140, 155, 150, 130, 135<br>\n",
    "3е измерение через 30 минут: 130, 130, 120, 130, 125;<br>\n",
    "задачу решить с помощью функции.\n",
    "</em></div>"
   ]
  },
  {
   "cell_type": "markdown",
   "id": "2c97d25a",
   "metadata": {},
   "source": [
    "<font size=\"2px\">Сформулируем нулевую гипотезу, $H_0 :$<br>\n",
    "**Статистически значимых различий в выборках _НЕТ._**<br>\n",
    "Тогда - альтернативная гипотеза, $H_1 :$ **Выборки статистически различны.**<br>\n",
    "Уровень значимости примем $\\alpha = 0.05$.<br>    \n",
    "Условие нормальности **не соблюдается**, значит тест _**непараметрический**_.<br>\n",
    "Выборки **зависимы** и являются **повторными** измерениями,<br>\n",
    "    их **больше двух**, поэтому воспользуемся _**критерием Фридмана**_.\n",
    "<br><br>  "
   ]
  },
  {
   "cell_type": "code",
   "execution_count": 4,
   "id": "af94918f",
   "metadata": {},
   "outputs": [
    {
     "name": "stdout",
     "output_type": "stream",
     "text": [
      "P-Value = 0.008\n",
      "P-Value < al : Нулевая гипотеза ОТВЕРГАЕТСЯ.\n"
     ]
    }
   ],
   "source": [
    "befor = np.array([150, 160, 165, 145, 155])\n",
    "a_1 = np.array([140, 155, 150, 130, 135])\n",
    "a_2 = np.array([130, 130, 120, 130, 125])\n",
    "al = 0.05\n",
    "\n",
    "rez_2 = st.friedmanchisquare(befor, a_1, a_2)\n",
    "print(f'P-Value = {rez_2[1]:0.3f}')\n",
    "\n",
    "if rez_2[1] > al:\n",
    "    print('P-Value > al : Нулевая гипотеза ПРИНИМАЕТСЯ.')\n",
    "else:\n",
    "    print('P-Value < al : Нулевая гипотеза ОТВЕРГАЕТСЯ.')"
   ]
  },
  {
   "cell_type": "markdown",
   "id": "b1bb7b5b",
   "metadata": {},
   "source": [
    "<div class=\"alert alert-block alert-success\"><em>\n",
    "<b>Ответ:</b><br> Нулевая гипотеза ОТВЕРГАЕТСЯ на уровне доверия 95% :\n",
    " измерения статистически различны.<br>\n",
    "    Можно сделать вывод :<br> \n",
    " <b>прием препарата оказывает влияние на уровень давления пациентов<br>\n",
    "    после 30 минут с момента его приёма.</b>\n",
    "</em></div>\n",
    "\n",
    "***"
   ]
  },
  {
   "cell_type": "markdown",
   "id": "0916d81f",
   "metadata": {},
   "source": [
    "<div class=\"alert alert-block alert-info\"><em>\n",
    "<b> ЗАДАЧА № 3. </b><br> Сравните 1 и 2 е измерения, предполагая, что 3-го измерения через 30 минут не было.<br>\n",
    "Задачу решить с помощью функции.\n",
    "</em></code>"
   ]
  },
  {
   "cell_type": "markdown",
   "id": "88368daa",
   "metadata": {},
   "source": [
    "<font size=\"2px\">Сформулируем нулевую гипотезу, $H_0 :$<br>\n",
    "**Статистически значимых различий в выборках _НЕТ._**<br>\n",
    "Тогда - альтернативная гипотеза, $H_1 :$ **Выборки статистически различны.**<br>\n",
    "Уровень значимости примем $\\alpha = 0.05$.<br>    \n",
    "Условие нормальности **не соблюдается**, значит тест _**непараметрический**_.<br>\n",
    "Выборки **зависимы** и их **две**, поэтому воспользуемся _**критерием Уилкоксона**_.\n",
    "<br><br>  "
   ]
  },
  {
   "cell_type": "code",
   "execution_count": 5,
   "id": "9cb5260a",
   "metadata": {},
   "outputs": [
    {
     "name": "stdout",
     "output_type": "stream",
     "text": [
      "P-Value = 0.062\n",
      "P-Value > al : Нулевая гипотеза ПРИНИМАЕТСЯ.\n"
     ]
    }
   ],
   "source": [
    "al = 0.05\n",
    "rez_3 = st.wilcoxon(befor, a_1)\n",
    "print(f'P-Value = {rez_3[1]:0.3f}')\n",
    "\n",
    "if rez_3[1] > al:\n",
    "    print('P-Value > al : Нулевая гипотеза ПРИНИМАЕТСЯ.')\n",
    "else:\n",
    "    print('P-Value < al : Нулевая гипотеза ОТВЕРГАЕТСЯ.')"
   ]
  },
  {
   "cell_type": "markdown",
   "id": "9e90f4a0",
   "metadata": {},
   "source": [
    "<div class=\"alert alert-block alert-success\"><em>\n",
    "<b>Ответ:</b><br> Нулевая гипотеза ПРИНИМАЕТСЯ на уровне доверия 95% :<br>\n",
    " статистически значимых различий в выборках НЕТ.<br>\n",
    "    Можно сделать вывод :<br> \n",
    " <b>после 10 минут с момента приема препарата<br>\n",
    "     его влияние на уровень давления пациентов не обнаружено.</b>\n",
    "</em></div>\n",
    "\n",
    "***"
   ]
  },
  {
   "cell_type": "markdown",
   "id": "2c3f4268",
   "metadata": {},
   "source": [
    "<div class=\"alert alert-block alert-info\"><em>\n",
    "<b> ЗАДАЧА № 4. </b><br> Даны 3 группы учеников плавания.<br>\n",
    "В 1 группе время на дистанцию 50 м составляют: 56, 60, 62, 55, 71, 67, 59, 58, 64, 67<br>\n",
    "Вторая группа : 57, 58, 69, 48, 72, 70, 68, 71, 50, 53<br>\n",
    "Третья группа: 57, 67, 49, 48, 47, 55, 66, 51, 54<br>\n",
    "Есть ли различия между группами?<br>\n",
    "Задачу решить с помощью функции.    \n",
    "</em></code>"
   ]
  },
  {
   "cell_type": "markdown",
   "id": "c347a2d3",
   "metadata": {},
   "source": [
    "<font size=\"2px\">Сформулируем нулевую гипотезу, $H_0 :$<br>\n",
    "**Статистически значимых различий в выборках _НЕТ._**<br>\n",
    "Тогда - альтернативная гипотеза, $H_1 :$ **Выборки статистически различны.**<br>\n",
    "Уровень значимости примем $\\alpha = 0.05$.<br>    \n",
    "Условие нормальности **не соблюдается**, значит тест _**непараметрический**_.<br>\n",
    "Выборки **НЕзависимы** и их **больше двух**, поэтому воспользуемся _**критерием Крускала-Уоллиса**_.\n",
    "<br><br>  "
   ]
  },
  {
   "cell_type": "code",
   "execution_count": 6,
   "id": "d0e324cd",
   "metadata": {},
   "outputs": [
    {
     "name": "stdout",
     "output_type": "stream",
     "text": [
      "P-Value = 0.065\n",
      "P-Value > al : Нулевая гипотеза ПРИНИМАЕТСЯ.\n"
     ]
    }
   ],
   "source": [
    "al = 0.05\n",
    "b_1 = np.array([56, 60, 62, 55, 71, 67, 59, 58, 64, 67])\n",
    "b_2 = np.array([57, 58, 69, 48, 72, 70, 68, 71, 50, 53])\n",
    "b_3 = np.array([57, 67, 49, 48, 47, 55, 66, 51, 54])\n",
    "\n",
    "rez_4 = st.kruskal(b_1, b_2, b_3)\n",
    "print(f'P-Value = {rez_4[1]:0.3f}')\n",
    "\n",
    "if rez_4[1] > al:\n",
    "    print('P-Value > al : Нулевая гипотеза ПРИНИМАЕТСЯ.')\n",
    "else:\n",
    "    print('P-Value < al : Нулевая гипотеза ОТВЕРГАЕТСЯ.')"
   ]
  },
  {
   "cell_type": "markdown",
   "id": "4e00ed3a",
   "metadata": {},
   "source": [
    "<div class=\"alert alert-block alert-success\"><em>\n",
    "<b>Ответ:</b><br> Нулевая гипотеза ПРИНИМАЕТСЯ на уровне доверия 95% :<br>\n",
    " статистически значимых различий в выборках НЕТ.<br>\n",
    "    Можно сделать вывод :<br> \n",
    " <b>подготовка в разных группах учеников примерно одинакова.</b>\n",
    "</em></div>\n",
    "\n",
    "***"
   ]
  },
  {
   "cell_type": "markdown",
   "id": "c1df49d0",
   "metadata": {},
   "source": [
    "<div class=\"alert alert-block alert-info\"><em>\n",
    "<b> ЗАДАЧА № 5. </b><br> Заявляется, что партия изготавливается со средним арифметическим 2,5 см.<br>\n",
    "Проверить данную гипотезу, если известно, что размеры изделий подчинены нормальному\n",
    "закону распределения.<br> Объем выборки 10, уровень статистической значимости 5%<br>\n",
    "2.51, 2.35, 2.74, 2.56, 2.40, 2.36, 2.65, 2.7, 2.67, 2.34;<br>\n",
    "задачу решить вручную.\n",
    "</em></code>"
   ]
  },
  {
   "cell_type": "markdown",
   "id": "46d27a59",
   "metadata": {},
   "source": [
    "<font size=\"2px\">Сформулируем нулевую гипотезу $H_0:$<br>\n",
    "<font size=\"3px\">$\\mu=2,5\\ см,$ <font size=\"2px\">где<br> \n",
    "$\\mu$ - средняя генеральной совокупности ;<br>\n",
    "Тогда для двустороннего теста $\\alpha = \\frac{5\\%}{2}=0,025$ и альтернативная гипотеза, $H_1:$<br>\n",
    "<font size=\"3px\">$\\mu\\not=2,5\\ см.$<br> \n",
    "<font size=\"2px\">Поскольку нам неизвестна дисперсия генеральной совокупности,<br>\n",
    "то для проверки гипотезы будем использовать $t$-критерий Стьюдента.<br>\n",
    "<font size=\"4px\"> $t_н=\\frac{\\bar X - m}{\\sigma_{несм}\\ /\\ \\sqrt{n}}$<font size=\"2px\">, где<br>\n",
    "$\\bar X$ - среднее по выборке;<br>\n",
    "$\\sigma_{несм}$ - несмещённая оценка дисперсии;<br>\n",
    "$n = 10$ - размер выборки.\n",
    "<br>\n",
    "<br>\n",
    "Решим задачу \"совсем\" вручную, по формулам, с минимальным использованием встроенных Python-функций,<br>\n",
    "а затем их проверим."
   ]
  },
  {
   "cell_type": "code",
   "execution_count": 7,
   "id": "98db7527",
   "metadata": {},
   "outputs": [
    {
     "name": "stdout",
     "output_type": "stream",
     "text": [
      "средние :\n"
     ]
    },
    {
     "data": {
      "text/plain": [
       "(2.5279999999999996, 2.5279999999999996)"
      ]
     },
     "execution_count": 7,
     "metadata": {},
     "output_type": "execute_result"
    }
   ],
   "source": [
    "a_0 = [2.51, 2.35, 2.74, 2.56, 2.40, 2.36, 2.65, 2.7, 2.67, 2.34]\n",
    "print(f'средние :')\n",
    "me_0 = sum(a_0) / len(a_0)\n",
    "me_0, np.mean(a_0)"
   ]
  },
  {
   "cell_type": "markdown",
   "id": "c9b7b141",
   "metadata": {},
   "source": [
    "<font size=\"2px\">Сформируем массив из среднеквадратичных отклонений."
   ]
  },
  {
   "cell_type": "code",
   "execution_count": 8,
   "id": "62961285",
   "metadata": {},
   "outputs": [
    {
     "data": {
      "text/plain": [
       "[0.0003239999999999926,\n",
       " 0.031683999999999816,\n",
       " 0.04494400000000027,\n",
       " 0.0010240000000000303,\n",
       " 0.016383999999999916,\n",
       " 0.028223999999999902,\n",
       " 0.014884000000000081,\n",
       " 0.029584000000000204,\n",
       " 0.0201640000000001,\n",
       " 0.035343999999999896]"
      ]
     },
     "execution_count": 8,
     "metadata": {},
     "output_type": "execute_result"
    }
   ],
   "source": [
    "a_1 = [(el - me_0)** 2 for el in a_0]\n",
    "a_1"
   ]
  },
  {
   "cell_type": "markdown",
   "id": "f3bad271",
   "metadata": {},
   "source": [
    "<font size=\"2px\">Найдём несмещенную дисперсию по формуле и с помощью функции."
   ]
  },
  {
   "cell_type": "code",
   "execution_count": 9,
   "id": "8f1aff90",
   "metadata": {},
   "outputs": [
    {
     "name": "stdout",
     "output_type": "stream",
     "text": [
      "НЕсмещенная дисперсия :\n"
     ]
    },
    {
     "data": {
      "text/plain": [
       "(0.02472888888888891, 0.02472888888888891)"
      ]
     },
     "execution_count": 9,
     "metadata": {},
     "output_type": "execute_result"
    }
   ],
   "source": [
    "d_n = (sum(a_1) / len(a_1)) * len(a_0) / (len(a_0) - 1)\n",
    "print(f'НЕсмещенная дисперсия :')\n",
    "d_n, np.var(a_0, ddof=1)"
   ]
  },
  {
   "cell_type": "code",
   "execution_count": 10,
   "id": "0375112d",
   "metadata": {},
   "outputs": [
    {
     "name": "stdout",
     "output_type": "stream",
     "text": [
      "Наблюдаемое значение t-критерия : 0.56306\n"
     ]
    }
   ],
   "source": [
    "t_n = ((me_0 - 2.5) / (d_n / len(a_0)) ** .5)\n",
    "print(f'Наблюдаемое значение t-критерия :{t_n: .5f}')"
   ]
  },
  {
   "cell_type": "code",
   "execution_count": 11,
   "id": "754ab5b0",
   "metadata": {},
   "outputs": [
    {
     "name": "stdout",
     "output_type": "stream",
     "text": [
      "t табл верх = 2.26216\n",
      "t табл ниж = -2.26216\n"
     ]
    }
   ],
   "source": [
    "t_tab_v = st.t.ppf(1 - 0.05 / 2, len(a_0) - 1)\n",
    "t_tab_n = st.t.ppf(0.05 / 2, len(a_0) - 1)\n",
    "print(f't табл верх = {t_tab_v:.5f}\\nt табл ниж = {t_tab_n:.5f}')"
   ]
  },
  {
   "cell_type": "code",
   "execution_count": 12,
   "id": "b0b45b55",
   "metadata": {},
   "outputs": [
    {
     "name": "stdout",
     "output_type": "stream",
     "text": [
      "Нулевая гипотеза ПРИНИМАЕТСЯ.\n"
     ]
    }
   ],
   "source": [
    "if t_n > t_tab_n and t_n < t_tab_v:\n",
    "    print('Нулевая гипотеза ПРИНИМАЕТСЯ.')\n",
    "else:\n",
    "    print('Нулевая гипотеза ОТВЕРГАЕТСЯ.')"
   ]
  },
  {
   "cell_type": "markdown",
   "id": "8c0f2a67",
   "metadata": {},
   "source": [
    "<font size=\"2px\">Визуально решение выглядит так :"
   ]
  },
  {
   "cell_type": "code",
   "execution_count": 13,
   "id": "901fca1f",
   "metadata": {},
   "outputs": [
    {
     "data": {
      "image/png": "[encoded data removed]",
      "text/plain": [
       "<Figure size 432x288 with 1 Axes>"
      ]
     },
     "metadata": {},
     "output_type": "display_data"
    }
   ],
   "source": [
    "x = np.arange(-5.3, 5.3, 0.01)\n",
    "y = st.t.pdf(x, 10 - 1)\n",
    "y0 = st.t.pdf(t_tab_v, 10 - 1)\n",
    "\n",
    "with plt.style.context('Solarize_Light2'):\n",
    "    plt.xlim([-7.5, 6])\n",
    "    plt.ylim([0, 0.5])\n",
    "    plt.plot(x, y, c = 'b')\n",
    "    plt.fill_between (x, y, where = ((x < t_tab_v) & (x > t_tab_n)), color='r', alpha= .2)\n",
    "    plt.annotate(\"t-распределение\\nСтьюдента\", xy=(-.65, 0.33), xytext=(-7, 0.3), size=15, c='b',\n",
    "                bbox=dict(boxstyle=\"round\",fc='w',ec='b',alpha= .3),\n",
    "                arrowprops=dict(arrowstyle=\"wedge,tail_width=.5\", fc='w',ec='b', alpha= .3,\n",
    "                               relpos=(0.95, 0.5), connectionstyle=\"arc3,rad=0\")\n",
    "                )\n",
    "    plt.plot(t_tab_v, y0, 'o', c = 'r')\n",
    "    plt.annotate(\"$t_{таб.В} = 2,262$\", xy=(2.46, 0.045), xytext=(1.8, 0.2), size=15, c='r',\n",
    "                bbox=dict(boxstyle=\"round\",fc='w',ec='r',alpha= .3),\n",
    "                arrowprops=dict(arrowstyle=\"wedge,tail_width=.5\", fc='w',ec='r', alpha= .3,\n",
    "                               relpos=(0.45, 1.2), connectionstyle=\"arc3,rad=-0.5\")\n",
    "                )\n",
    "    plt.plot(t_tab_n, y0, 'o', c = 'r')\n",
    "    plt.annotate(\"$t_{таб.Н} = - 2,262$\", xy=(-2.46, 0.045), xytext=(-6.7, 0.2), size=15, c='r',\n",
    "                bbox=dict(boxstyle=\"round\",fc='w',ec='r',alpha= .3),\n",
    "                arrowprops=dict(arrowstyle=\"wedge,tail_width=.5\", fc='w',ec='r', alpha= .3,\n",
    "                               relpos=(0.45, 1.2), connectionstyle=\"arc3,rad=0.5\")\n",
    "                )\n",
    "    plt.plot((t_n,t_n),(0,0.48), '-', c = 'g')\n",
    "    plt.annotate(\"$t_{наб} = 0.563$\", xy=(0.7, 0.43), xytext=(2, 0.42), size=15, c='g',\n",
    "                bbox=dict(boxstyle=\"round\",fc='w',ec='g',alpha= .3),\n",
    "                arrowprops=dict(arrowstyle=\"wedge,tail_width=.5\", fc='w',ec='g', alpha= .3,\n",
    "                               relpos=(0.95, 0.5), connectionstyle=\"arc3,rad=0\"\n",
    "                               )                           \n",
    "                )\n",
    "plt.show()"
   ]
  },
  {
   "cell_type": "markdown",
   "id": "c2ba39e1",
   "metadata": {},
   "source": [
    "<div class=\"alert alert-block alert-success\"><em>\n",
    "<b>Ответ:<br> Принимаем</b> нулевую гипотезу $H_0:$ партия изготавливается со средним арифметическим 2,5 см на уровне значимости $\\alpha = 0,025$.\n",
    "</em></div>"
   ]
  }
 ],
 "metadata": {
  "kernelspec": {
   "display_name": "Python 3",
   "language": "python",
   "name": "python3"
  },
  "language_info": {
   "codemirror_mode": {
    "name": "ipython",
    "version": 3
   },
   "file_extension": ".py",
   "mimetype": "text/x-python",
   "name": "python",
   "nbconvert_exporter": "python",
   "pygments_lexer": "ipython3",
   "version": "3.8.8"
  }
 },
 "nbformat": 4,
 "nbformat_minor": 5
}
